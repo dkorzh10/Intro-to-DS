{
 "cells": [
  {
   "cell_type": "markdown",
   "metadata": {},
   "source": [
    "## Skoltech\n",
    "## Intro to data science, fall 2020\n",
    "## Assigment 2\n",
    "\n",
    "### Goals\n",
    "- Make exploratory data analysis\n",
    "- Apply feature engineering and feature selection\n",
    "- Try to solve classification task and use classification performance metrics\n",
    "- Get the taste of gradient boosting approach\n",
    "\n",
    "\n",
    "# Submiting the answers\n",
    "\n",
    "Google form to submit your answers: https://docs.google.com/forms/d/1zwUO1KZNDTZYuD12dyMO3CaErGHnZuHx1Mdbo-c11ME/\n",
    "\n",
    "Use your **skoltech email**. For Name, Surname use **exactly the same spelling** as in canvas system.\n",
    "\n",
    "---\n",
    "\n",
    "If your answer is a ``float number``, then it must be provided with **3 decimals after the floating point**, e.g. 1.234\n",
    "\n",
    "---\n",
    "\n",
    "If your answer is a ``list of float or integer numbers or str``, then they should be reported in descending (alphabetical) order,  divided by a comma, e.g.:\n",
    "\n",
    "10.453,9.112,5.001,5.000\n",
    "\n",
    "---\n",
    "\n",
    "The last part (Q5) do not have corresponding fields in the google form. It is **not optional** and it will be graded manually from your .ipynb file.\n",
    "\n",
    "---\n",
    "\n",
    "If you have any questions regarding this Home Assignment, ask them piazza topic: https://piazza.com/class/kespugtqfrn12g?cid=29"
   ]
  },
  {
   "cell_type": "markdown",
   "metadata": {},
   "source": [
    "#### Import basic libraries"
   ]
  },
  {
   "cell_type": "code",
   "execution_count": 374,
   "metadata": {
    "id": "IxQ5oO5xbtyW"
   },
   "outputs": [],
   "source": [
    "import pandas as pd\n",
    "import numpy as np\n",
    "import matplotlib.pyplot as plt\n",
    "%matplotlib inline\n",
    "import seaborn as sns\n",
    "sns.set()\n",
    "pd.options.mode.chained_assignment = None"
   ]
  },
  {
   "cell_type": "markdown",
   "metadata": {},
   "source": [
    "### Dataset\n",
    "For the task we'll use kickstarter dataset. Kickstarter is the crowdfounding platform, where people can announce their project with financial goals and other can support the projects by paying the money (\"pledging\"). The goal will be to predict if the project will be successfull, i.e. would it achieve the funding goal. Let's take a brief look to the dataset."
   ]
  },
  {
   "cell_type": "code",
   "execution_count": 375,
   "metadata": {
    "id": "mBWPB2ajcTnj"
   },
   "outputs": [],
   "source": [
    "df = pd.read_csv('ks-projects-201801.csv')\n",
    "df.set_index(\"ID\", inplace=True)"
   ]
  },
  {
   "cell_type": "code",
   "execution_count": 376,
   "metadata": {
    "colab": {
     "base_uri": "https://localhost:8080/",
     "height": 431
    },
    "id": "bA52wUNelGmZ",
    "outputId": "2258994a-956f-47fd-e295-7ecda8077687"
   },
   "outputs": [
    {
     "data": {
      "text/html": [
       "<div>\n",
       "<style scoped>\n",
       "    .dataframe tbody tr th:only-of-type {\n",
       "        vertical-align: middle;\n",
       "    }\n",
       "\n",
       "    .dataframe tbody tr th {\n",
       "        vertical-align: top;\n",
       "    }\n",
       "\n",
       "    .dataframe thead th {\n",
       "        text-align: right;\n",
       "    }\n",
       "</style>\n",
       "<table border=\"1\" class=\"dataframe\">\n",
       "  <thead>\n",
       "    <tr style=\"text-align: right;\">\n",
       "      <th></th>\n",
       "      <th>name</th>\n",
       "      <th>category</th>\n",
       "      <th>main_category</th>\n",
       "      <th>currency</th>\n",
       "      <th>deadline</th>\n",
       "      <th>goal</th>\n",
       "      <th>launched</th>\n",
       "      <th>pledged</th>\n",
       "      <th>state</th>\n",
       "      <th>backers</th>\n",
       "      <th>country</th>\n",
       "      <th>usd pledged</th>\n",
       "      <th>usd_pledged_real</th>\n",
       "      <th>usd_goal_real</th>\n",
       "    </tr>\n",
       "    <tr>\n",
       "      <th>ID</th>\n",
       "      <th></th>\n",
       "      <th></th>\n",
       "      <th></th>\n",
       "      <th></th>\n",
       "      <th></th>\n",
       "      <th></th>\n",
       "      <th></th>\n",
       "      <th></th>\n",
       "      <th></th>\n",
       "      <th></th>\n",
       "      <th></th>\n",
       "      <th></th>\n",
       "      <th></th>\n",
       "      <th></th>\n",
       "    </tr>\n",
       "  </thead>\n",
       "  <tbody>\n",
       "    <tr>\n",
       "      <th>1593447107</th>\n",
       "      <td>Quick Pitch</td>\n",
       "      <td>Product Design</td>\n",
       "      <td>Design</td>\n",
       "      <td>GBP</td>\n",
       "      <td>2017-06-19</td>\n",
       "      <td>25000.0</td>\n",
       "      <td>2017-05-15 06:13:50</td>\n",
       "      <td>72.0</td>\n",
       "      <td>canceled</td>\n",
       "      <td>2</td>\n",
       "      <td>GB</td>\n",
       "      <td>67.01</td>\n",
       "      <td>91.62</td>\n",
       "      <td>31811.88</td>\n",
       "    </tr>\n",
       "    <tr>\n",
       "      <th>1579701314</th>\n",
       "      <td>Homemade Spaghetti</td>\n",
       "      <td>Food</td>\n",
       "      <td>Food</td>\n",
       "      <td>USD</td>\n",
       "      <td>2014-07-23</td>\n",
       "      <td>50.0</td>\n",
       "      <td>2014-07-08 19:50:04</td>\n",
       "      <td>0.0</td>\n",
       "      <td>failed</td>\n",
       "      <td>0</td>\n",
       "      <td>US</td>\n",
       "      <td>0.00</td>\n",
       "      <td>0.00</td>\n",
       "      <td>50.00</td>\n",
       "    </tr>\n",
       "    <tr>\n",
       "      <th>897025395</th>\n",
       "      <td>Running To The End Of The World</td>\n",
       "      <td>Nature</td>\n",
       "      <td>Photography</td>\n",
       "      <td>USD</td>\n",
       "      <td>2015-04-02</td>\n",
       "      <td>2000.0</td>\n",
       "      <td>2015-03-05 17:36:28</td>\n",
       "      <td>3060.0</td>\n",
       "      <td>successful</td>\n",
       "      <td>65</td>\n",
       "      <td>US</td>\n",
       "      <td>3060.00</td>\n",
       "      <td>3060.00</td>\n",
       "      <td>2000.00</td>\n",
       "    </tr>\n",
       "    <tr>\n",
       "      <th>2053070225</th>\n",
       "      <td>It's All That Glitters: Burlesque Extravaganza</td>\n",
       "      <td>Theater</td>\n",
       "      <td>Theater</td>\n",
       "      <td>USD</td>\n",
       "      <td>2012-06-01</td>\n",
       "      <td>6000.0</td>\n",
       "      <td>2012-05-02 08:21:39</td>\n",
       "      <td>6069.0</td>\n",
       "      <td>successful</td>\n",
       "      <td>75</td>\n",
       "      <td>US</td>\n",
       "      <td>6069.00</td>\n",
       "      <td>6069.00</td>\n",
       "      <td>6000.00</td>\n",
       "    </tr>\n",
       "    <tr>\n",
       "      <th>238966085</th>\n",
       "      <td>E-Smart Electronic Book For Kids With Autism a...</td>\n",
       "      <td>Children's Books</td>\n",
       "      <td>Publishing</td>\n",
       "      <td>USD</td>\n",
       "      <td>2011-09-07</td>\n",
       "      <td>8500.0</td>\n",
       "      <td>2011-08-08 15:35:28</td>\n",
       "      <td>10.0</td>\n",
       "      <td>failed</td>\n",
       "      <td>2</td>\n",
       "      <td>US</td>\n",
       "      <td>10.00</td>\n",
       "      <td>10.00</td>\n",
       "      <td>8500.00</td>\n",
       "    </tr>\n",
       "  </tbody>\n",
       "</table>\n",
       "</div>"
      ],
      "text/plain": [
       "                                                         name  \\\n",
       "ID                                                              \n",
       "1593447107                                        Quick Pitch   \n",
       "1579701314                                 Homemade Spaghetti   \n",
       "897025395                     Running To The End Of The World   \n",
       "2053070225     It's All That Glitters: Burlesque Extravaganza   \n",
       "238966085   E-Smart Electronic Book For Kids With Autism a...   \n",
       "\n",
       "                    category main_category currency    deadline     goal  \\\n",
       "ID                                                                         \n",
       "1593447107    Product Design        Design      GBP  2017-06-19  25000.0   \n",
       "1579701314              Food          Food      USD  2014-07-23     50.0   \n",
       "897025395             Nature   Photography      USD  2015-04-02   2000.0   \n",
       "2053070225           Theater       Theater      USD  2012-06-01   6000.0   \n",
       "238966085   Children's Books    Publishing      USD  2011-09-07   8500.0   \n",
       "\n",
       "                       launched  pledged       state  backers country  \\\n",
       "ID                                                                      \n",
       "1593447107  2017-05-15 06:13:50     72.0    canceled        2      GB   \n",
       "1579701314  2014-07-08 19:50:04      0.0      failed        0      US   \n",
       "897025395   2015-03-05 17:36:28   3060.0  successful       65      US   \n",
       "2053070225  2012-05-02 08:21:39   6069.0  successful       75      US   \n",
       "238966085   2011-08-08 15:35:28     10.0      failed        2      US   \n",
       "\n",
       "            usd pledged  usd_pledged_real  usd_goal_real  \n",
       "ID                                                        \n",
       "1593447107        67.01             91.62       31811.88  \n",
       "1579701314         0.00              0.00          50.00  \n",
       "897025395       3060.00           3060.00        2000.00  \n",
       "2053070225      6069.00           6069.00        6000.00  \n",
       "238966085         10.00             10.00        8500.00  "
      ]
     },
     "execution_count": 376,
     "metadata": {},
     "output_type": "execute_result"
    }
   ],
   "source": [
    "df.sample(5)"
   ]
  },
  {
   "cell_type": "code",
   "execution_count": 377,
   "metadata": {},
   "outputs": [
    {
     "data": {
      "text/plain": [
       "(378661, 14)"
      ]
     },
     "execution_count": 377,
     "metadata": {},
     "output_type": "execute_result"
    }
   ],
   "source": [
    "df.shape"
   ]
  },
  {
   "cell_type": "code",
   "execution_count": 378,
   "metadata": {},
   "outputs": [
    {
     "data": {
      "text/plain": [
       "failed        197719\n",
       "successful    133956\n",
       "canceled       38779\n",
       "undefined       3562\n",
       "live            2799\n",
       "suspended       1846\n",
       "Name: state, dtype: int64"
      ]
     },
     "execution_count": 378,
     "metadata": {},
     "output_type": "execute_result"
    }
   ],
   "source": [
    "df.state.value_counts()"
   ]
  },
  {
   "cell_type": "markdown",
   "metadata": {},
   "source": [
    "# Section 1. Dataset acquaintance"
   ]
  },
  {
   "cell_type": "markdown",
   "metadata": {},
   "source": [
    "-----"
   ]
  },
  {
   "cell_type": "markdown",
   "metadata": {},
   "source": [
    "### Q1.1\n",
    "\n",
    "#### How many NaN values are there in the dataset? - 3801"
   ]
  },
  {
   "cell_type": "markdown",
   "metadata": {},
   "source": [
    "----"
   ]
  },
  {
   "cell_type": "code",
   "execution_count": 379,
   "metadata": {},
   "outputs": [
    {
     "data": {
      "text/plain": [
       "name                378657\n",
       "category            378661\n",
       "main_category       378661\n",
       "currency            378661\n",
       "deadline            378661\n",
       "goal                378661\n",
       "launched            378661\n",
       "pledged             378661\n",
       "state               378661\n",
       "backers             378661\n",
       "country             378661\n",
       "usd pledged         374864\n",
       "usd_pledged_real    378661\n",
       "usd_goal_real       378661\n",
       "dtype: int64"
      ]
     },
     "execution_count": 379,
     "metadata": {},
     "output_type": "execute_result"
    }
   ],
   "source": [
    "#number of non-NaN values in each column\n",
    "df.count()"
   ]
  },
  {
   "cell_type": "code",
   "execution_count": 380,
   "metadata": {},
   "outputs": [
    {
     "data": {
      "text/plain": [
       "name                   4\n",
       "category               0\n",
       "main_category          0\n",
       "currency               0\n",
       "deadline               0\n",
       "goal                   0\n",
       "launched               0\n",
       "pledged                0\n",
       "state                  0\n",
       "backers                0\n",
       "country                0\n",
       "usd pledged         3797\n",
       "usd_pledged_real       0\n",
       "usd_goal_real          0\n",
       "dtype: int64"
      ]
     },
     "execution_count": 380,
     "metadata": {},
     "output_type": "execute_result"
    }
   ],
   "source": [
    "#number of NaN values in each column\n",
    "df.isna().sum()"
   ]
  },
  {
   "cell_type": "markdown",
   "metadata": {},
   "source": [
    "----"
   ]
  },
  {
   "cell_type": "markdown",
   "metadata": {},
   "source": [
    "Let us simplify the task a little bit: we are aiming to predict either project fails or not.\n",
    "Thus 'success' projects will be encoded as 1, with state ['failed', 'canceled'] as 0 and we remove the rows with any other state.\n",
    "\n",
    "### Q1.2 \n",
    "#### How many '1' values are in resulting dataset (in state column)? - 133956"
   ]
  },
  {
   "cell_type": "markdown",
   "metadata": {},
   "source": [
    "-----"
   ]
  },
  {
   "cell_type": "code",
   "execution_count": 381,
   "metadata": {},
   "outputs": [
    {
     "data": {
      "text/plain": [
       "failed        197719\n",
       "successful    133956\n",
       "canceled       38779\n",
       "undefined       3562\n",
       "live            2799\n",
       "suspended       1846\n",
       "Name: state, dtype: int64"
      ]
     },
     "execution_count": 381,
     "metadata": {},
     "output_type": "execute_result"
    }
   ],
   "source": [
    "df['state'].value_counts()"
   ]
  },
  {
   "cell_type": "code",
   "execution_count": 382,
   "metadata": {},
   "outputs": [],
   "source": [
    "df = df[(df.state == 'successful') | (df.state == 'failed') | (df.state == 'canceled')]\n",
    "df['state'] = df['state'].apply(lambda x: 1 if x == 'successful' else 0)"
   ]
  },
  {
   "cell_type": "code",
   "execution_count": 383,
   "metadata": {},
   "outputs": [
    {
     "data": {
      "text/plain": [
       "0    236498\n",
       "1    133956\n",
       "Name: state, dtype: int64"
      ]
     },
     "execution_count": 383,
     "metadata": {},
     "output_type": "execute_result"
    }
   ],
   "source": [
    "df['state'].value_counts()"
   ]
  },
  {
   "cell_type": "markdown",
   "metadata": {},
   "source": [
    "------"
   ]
  },
  {
   "cell_type": "markdown",
   "metadata": {},
   "source": [
    "### Q1.3\n",
    "#### Whats is a name of a project attracted the biggest pay check? (on average). Use column usd_pledged_real to judge. If there are multiple projects, choose any single one. - Nobody: The Movie (Canceled)\n"
   ]
  },
  {
   "cell_type": "markdown",
   "metadata": {},
   "source": [
    "-----"
   ]
  },
  {
   "cell_type": "code",
   "execution_count": 384,
   "metadata": {},
   "outputs": [
    {
     "data": {
      "text/html": [
       "<div>\n",
       "<style scoped>\n",
       "    .dataframe tbody tr th:only-of-type {\n",
       "        vertical-align: middle;\n",
       "    }\n",
       "\n",
       "    .dataframe tbody tr th {\n",
       "        vertical-align: top;\n",
       "    }\n",
       "\n",
       "    .dataframe thead th {\n",
       "        text-align: right;\n",
       "    }\n",
       "</style>\n",
       "<table border=\"1\" class=\"dataframe\">\n",
       "  <thead>\n",
       "    <tr style=\"text-align: right;\">\n",
       "      <th></th>\n",
       "      <th>name</th>\n",
       "      <th>category</th>\n",
       "      <th>main_category</th>\n",
       "      <th>currency</th>\n",
       "      <th>deadline</th>\n",
       "      <th>goal</th>\n",
       "      <th>launched</th>\n",
       "      <th>pledged</th>\n",
       "      <th>state</th>\n",
       "      <th>backers</th>\n",
       "      <th>country</th>\n",
       "      <th>usd pledged</th>\n",
       "      <th>usd_pledged_real</th>\n",
       "      <th>usd_goal_real</th>\n",
       "      <th>average_pledged</th>\n",
       "    </tr>\n",
       "    <tr>\n",
       "      <th>ID</th>\n",
       "      <th></th>\n",
       "      <th></th>\n",
       "      <th></th>\n",
       "      <th></th>\n",
       "      <th></th>\n",
       "      <th></th>\n",
       "      <th></th>\n",
       "      <th></th>\n",
       "      <th></th>\n",
       "      <th></th>\n",
       "      <th></th>\n",
       "      <th></th>\n",
       "      <th></th>\n",
       "      <th></th>\n",
       "      <th></th>\n",
       "    </tr>\n",
       "  </thead>\n",
       "  <tbody>\n",
       "    <tr>\n",
       "      <th>642968820</th>\n",
       "      <td>Nobody: The Movie (Canceled)</td>\n",
       "      <td>Film &amp; Video</td>\n",
       "      <td>Film &amp; Video</td>\n",
       "      <td>USD</td>\n",
       "      <td>2015-04-22</td>\n",
       "      <td>60000.0</td>\n",
       "      <td>2015-02-21 23:07:08</td>\n",
       "      <td>10000.0</td>\n",
       "      <td>0</td>\n",
       "      <td>1</td>\n",
       "      <td>US</td>\n",
       "      <td>10000.0</td>\n",
       "      <td>10000.0</td>\n",
       "      <td>60000.0</td>\n",
       "      <td>10000.0</td>\n",
       "    </tr>\n",
       "  </tbody>\n",
       "</table>\n",
       "</div>"
      ],
      "text/plain": [
       "                                   name      category main_category currency  \\\n",
       "ID                                                                             \n",
       "642968820  Nobody: The Movie (Canceled)  Film & Video  Film & Video      USD   \n",
       "\n",
       "             deadline     goal             launched  pledged  state  backers  \\\n",
       "ID                                                                             \n",
       "642968820  2015-04-22  60000.0  2015-02-21 23:07:08  10000.0      0        1   \n",
       "\n",
       "          country  usd pledged  usd_pledged_real  usd_goal_real  \\\n",
       "ID                                                                \n",
       "642968820      US      10000.0           10000.0        60000.0   \n",
       "\n",
       "           average_pledged  \n",
       "ID                          \n",
       "642968820          10000.0  "
      ]
     },
     "execution_count": 384,
     "metadata": {},
     "output_type": "execute_result"
    }
   ],
   "source": [
    "df['average_pledged'] = df[['usd_pledged_real', 'backers']].apply(lambda x:\n",
    "                                                                x[0] / x[1] if x[1] != 0 else 0, axis=1)\n",
    "df.sort_values('average_pledged').tail(1)"
   ]
  },
  {
   "cell_type": "markdown",
   "metadata": {},
   "source": [
    "-----"
   ]
  },
  {
   "cell_type": "markdown",
   "metadata": {},
   "source": [
    "### Q1.4\n",
    "#### What is the most successful main category (in terms of success percentage)? - Dance"
   ]
  },
  {
   "cell_type": "code",
   "execution_count": 385,
   "metadata": {},
   "outputs": [
    {
     "data": {
      "text/plain": [
       "<seaborn.axisgrid.FacetGrid at 0x7f860e025dd8>"
      ]
     },
     "execution_count": 385,
     "metadata": {},
     "output_type": "execute_result"
    },
    {
     "data": {
      "image/png": "[encoded data removed]",
      "text/plain": [
       "<Figure size 1440x1440 with 15 Axes>"
      ]
     },
     "metadata": {},
     "output_type": "display_data"
    }
   ],
   "source": [
    "sns.set(rc={'figure.figsize':(11.7,8.27)})\n",
    "sns.catplot(x='state', col='main_category', col_wrap=4, kind='count', data=df)"
   ]
  },
  {
   "cell_type": "markdown",
   "metadata": {},
   "source": [
    "From the plots we expect 'Dance' or 'Theater' to be the most successful mail category. Let's check it. "
   ]
  },
  {
   "cell_type": "code",
   "execution_count": 386,
   "metadata": {},
   "outputs": [
    {
     "data": {
      "text/html": [
       "<div>\n",
       "<style scoped>\n",
       "    .dataframe tbody tr th:only-of-type {\n",
       "        vertical-align: middle;\n",
       "    }\n",
       "\n",
       "    .dataframe tbody tr th {\n",
       "        vertical-align: top;\n",
       "    }\n",
       "\n",
       "    .dataframe thead th {\n",
       "        text-align: right;\n",
       "    }\n",
       "</style>\n",
       "<table border=\"1\" class=\"dataframe\">\n",
       "  <thead>\n",
       "    <tr style=\"text-align: right;\">\n",
       "      <th></th>\n",
       "      <th>name</th>\n",
       "      <th>category</th>\n",
       "      <th>main_category</th>\n",
       "      <th>currency</th>\n",
       "      <th>deadline</th>\n",
       "      <th>goal</th>\n",
       "      <th>launched</th>\n",
       "      <th>pledged</th>\n",
       "      <th>state</th>\n",
       "      <th>backers</th>\n",
       "      <th>country</th>\n",
       "      <th>usd pledged</th>\n",
       "      <th>usd_pledged_real</th>\n",
       "      <th>usd_goal_real</th>\n",
       "      <th>average_pledged</th>\n",
       "      <th>main_category_success</th>\n",
       "    </tr>\n",
       "    <tr>\n",
       "      <th>ID</th>\n",
       "      <th></th>\n",
       "      <th></th>\n",
       "      <th></th>\n",
       "      <th></th>\n",
       "      <th></th>\n",
       "      <th></th>\n",
       "      <th></th>\n",
       "      <th></th>\n",
       "      <th></th>\n",
       "      <th></th>\n",
       "      <th></th>\n",
       "      <th></th>\n",
       "      <th></th>\n",
       "      <th></th>\n",
       "      <th></th>\n",
       "      <th></th>\n",
       "    </tr>\n",
       "  </thead>\n",
       "  <tbody>\n",
       "    <tr>\n",
       "      <th>1176515858</th>\n",
       "      <td>hot dark matter</td>\n",
       "      <td>Dance</td>\n",
       "      <td>Dance</td>\n",
       "      <td>USD</td>\n",
       "      <td>2016-03-03</td>\n",
       "      <td>6000.0</td>\n",
       "      <td>2016-02-09 15:32:25</td>\n",
       "      <td>6074.0</td>\n",
       "      <td>1</td>\n",
       "      <td>103</td>\n",
       "      <td>US</td>\n",
       "      <td>6074.0</td>\n",
       "      <td>6074.0</td>\n",
       "      <td>6000.0</td>\n",
       "      <td>58.970874</td>\n",
       "      <td>0.625803</td>\n",
       "    </tr>\n",
       "  </tbody>\n",
       "</table>\n",
       "</div>"
      ],
      "text/plain": [
       "                       name category main_category currency    deadline  \\\n",
       "ID                                                                        \n",
       "1176515858  hot dark matter    Dance         Dance      USD  2016-03-03   \n",
       "\n",
       "              goal             launched  pledged  state  backers country  \\\n",
       "ID                                                                         \n",
       "1176515858  6000.0  2016-02-09 15:32:25   6074.0      1      103      US   \n",
       "\n",
       "            usd pledged  usd_pledged_real  usd_goal_real  average_pledged  \\\n",
       "ID                                                                          \n",
       "1176515858       6074.0            6074.0         6000.0        58.970874   \n",
       "\n",
       "            main_category_success  \n",
       "ID                                 \n",
       "1176515858               0.625803  "
      ]
     },
     "execution_count": 386,
     "metadata": {},
     "output_type": "execute_result"
    }
   ],
   "source": [
    "gp = df.groupby(['main_category'])['state'].mean()\n",
    "df['main_category_success'] = df['main_category'].map(gp)\n",
    "df.sort_values('main_category_success').tail(1)"
   ]
  },
  {
   "cell_type": "markdown",
   "metadata": {},
   "source": [
    "-----"
   ]
  },
  {
   "cell_type": "markdown",
   "metadata": {},
   "source": [
    "-----"
   ]
  },
  {
   "cell_type": "markdown",
   "metadata": {
    "jupyter": {
     "outputs_hidden": true
    }
   },
   "source": [
    "### Q1.5\n",
    "#### Define the category with highest goal per project. How many projects belong to it?  (note: we use category here, not main_category) - Movie Theaters,  227"
   ]
  },
  {
   "cell_type": "markdown",
   "metadata": {},
   "source": [
    "-----"
   ]
  },
  {
   "cell_type": "code",
   "execution_count": 387,
   "metadata": {},
   "outputs": [
    {
     "data": {
      "text/html": [
       "<div>\n",
       "<style scoped>\n",
       "    .dataframe tbody tr th:only-of-type {\n",
       "        vertical-align: middle;\n",
       "    }\n",
       "\n",
       "    .dataframe tbody tr th {\n",
       "        vertical-align: top;\n",
       "    }\n",
       "\n",
       "    .dataframe thead th {\n",
       "        text-align: right;\n",
       "    }\n",
       "</style>\n",
       "<table border=\"1\" class=\"dataframe\">\n",
       "  <thead>\n",
       "    <tr style=\"text-align: right;\">\n",
       "      <th></th>\n",
       "      <th>name</th>\n",
       "      <th>category</th>\n",
       "      <th>main_category</th>\n",
       "      <th>currency</th>\n",
       "      <th>deadline</th>\n",
       "      <th>goal</th>\n",
       "      <th>launched</th>\n",
       "      <th>pledged</th>\n",
       "      <th>state</th>\n",
       "      <th>backers</th>\n",
       "      <th>country</th>\n",
       "      <th>usd pledged</th>\n",
       "      <th>usd_pledged_real</th>\n",
       "      <th>usd_goal_real</th>\n",
       "      <th>average_pledged</th>\n",
       "      <th>main_category_success</th>\n",
       "      <th>category_average_goal</th>\n",
       "    </tr>\n",
       "    <tr>\n",
       "      <th>ID</th>\n",
       "      <th></th>\n",
       "      <th></th>\n",
       "      <th></th>\n",
       "      <th></th>\n",
       "      <th></th>\n",
       "      <th></th>\n",
       "      <th></th>\n",
       "      <th></th>\n",
       "      <th></th>\n",
       "      <th></th>\n",
       "      <th></th>\n",
       "      <th></th>\n",
       "      <th></th>\n",
       "      <th></th>\n",
       "      <th></th>\n",
       "      <th></th>\n",
       "      <th></th>\n",
       "    </tr>\n",
       "  </thead>\n",
       "  <tbody>\n",
       "    <tr>\n",
       "      <th>1115747097</th>\n",
       "      <td>XD THEATER (Canceled)</td>\n",
       "      <td>Movie Theaters</td>\n",
       "      <td>Film &amp; Video</td>\n",
       "      <td>AUD</td>\n",
       "      <td>2015-06-01</td>\n",
       "      <td>30000.0</td>\n",
       "      <td>2015-04-02 23:43:34</td>\n",
       "      <td>0.0</td>\n",
       "      <td>0</td>\n",
       "      <td>0</td>\n",
       "      <td>AU</td>\n",
       "      <td>0.0</td>\n",
       "      <td>0.0</td>\n",
       "      <td>23155.29</td>\n",
       "      <td>0.0</td>\n",
       "      <td>0.379291</td>\n",
       "      <td>1.594601e+06</td>\n",
       "    </tr>\n",
       "  </tbody>\n",
       "</table>\n",
       "</div>"
      ],
      "text/plain": [
       "                             name        category main_category currency  \\\n",
       "ID                                                                         \n",
       "1115747097  XD THEATER (Canceled)  Movie Theaters  Film & Video      AUD   \n",
       "\n",
       "              deadline     goal             launched  pledged  state  backers  \\\n",
       "ID                                                                              \n",
       "1115747097  2015-06-01  30000.0  2015-04-02 23:43:34      0.0      0        0   \n",
       "\n",
       "           country  usd pledged  usd_pledged_real  usd_goal_real  \\\n",
       "ID                                                                 \n",
       "1115747097      AU          0.0               0.0       23155.29   \n",
       "\n",
       "            average_pledged  main_category_success  category_average_goal  \n",
       "ID                                                                         \n",
       "1115747097              0.0               0.379291           1.594601e+06  "
      ]
     },
     "execution_count": 387,
     "metadata": {},
     "output_type": "execute_result"
    }
   ],
   "source": [
    "gp = df.groupby(['category'])['goal'].mean()\n",
    "df['category_average_goal'] = df['category'].map(gp)\n",
    "df.sort_values('category_average_goal').tail(1)"
   ]
  },
  {
   "cell_type": "code",
   "execution_count": 388,
   "metadata": {},
   "outputs": [
    {
     "name": "stdout",
     "output_type": "stream",
     "text": [
      "227  projects belong to the category with the highest goal per project\n"
     ]
    }
   ],
   "source": [
    "print(df[df.category == 'Movie Theaters'].shape[0],\n",
    "      ' projects belong to the category with the highest goal per project')"
   ]
  },
  {
   "cell_type": "markdown",
   "metadata": {},
   "source": [
    "-----"
   ]
  },
  {
   "cell_type": "markdown",
   "metadata": {},
   "source": [
    "### Q1.6\n",
    "#### What is the category with biggest total pledge? Use 'usd_pledged_real' to judge. - Product Design"
   ]
  },
  {
   "cell_type": "markdown",
   "metadata": {},
   "source": [
    "------"
   ]
  },
  {
   "cell_type": "code",
   "execution_count": 389,
   "metadata": {},
   "outputs": [
    {
     "data": {
      "text/html": [
       "<div>\n",
       "<style scoped>\n",
       "    .dataframe tbody tr th:only-of-type {\n",
       "        vertical-align: middle;\n",
       "    }\n",
       "\n",
       "    .dataframe tbody tr th {\n",
       "        vertical-align: top;\n",
       "    }\n",
       "\n",
       "    .dataframe thead th {\n",
       "        text-align: right;\n",
       "    }\n",
       "</style>\n",
       "<table border=\"1\" class=\"dataframe\">\n",
       "  <thead>\n",
       "    <tr style=\"text-align: right;\">\n",
       "      <th></th>\n",
       "      <th>name</th>\n",
       "      <th>category</th>\n",
       "      <th>main_category</th>\n",
       "      <th>currency</th>\n",
       "      <th>deadline</th>\n",
       "      <th>goal</th>\n",
       "      <th>launched</th>\n",
       "      <th>pledged</th>\n",
       "      <th>state</th>\n",
       "      <th>backers</th>\n",
       "      <th>country</th>\n",
       "      <th>usd pledged</th>\n",
       "      <th>usd_pledged_real</th>\n",
       "      <th>usd_goal_real</th>\n",
       "      <th>average_pledged</th>\n",
       "      <th>main_category_success</th>\n",
       "      <th>category_average_goal</th>\n",
       "      <th>category_total_pledge</th>\n",
       "    </tr>\n",
       "    <tr>\n",
       "      <th>ID</th>\n",
       "      <th></th>\n",
       "      <th></th>\n",
       "      <th></th>\n",
       "      <th></th>\n",
       "      <th></th>\n",
       "      <th></th>\n",
       "      <th></th>\n",
       "      <th></th>\n",
       "      <th></th>\n",
       "      <th></th>\n",
       "      <th></th>\n",
       "      <th></th>\n",
       "      <th></th>\n",
       "      <th></th>\n",
       "      <th></th>\n",
       "      <th></th>\n",
       "      <th></th>\n",
       "      <th></th>\n",
       "    </tr>\n",
       "  </thead>\n",
       "  <tbody>\n",
       "    <tr>\n",
       "      <th>1963512116</th>\n",
       "      <td>LifeLog - The Home of Your Digital Life</td>\n",
       "      <td>Product Design</td>\n",
       "      <td>Design</td>\n",
       "      <td>USD</td>\n",
       "      <td>2012-07-21</td>\n",
       "      <td>25000.0</td>\n",
       "      <td>2012-06-21 23:40:29</td>\n",
       "      <td>27007.0</td>\n",
       "      <td>1</td>\n",
       "      <td>122</td>\n",
       "      <td>US</td>\n",
       "      <td>27007.0</td>\n",
       "      <td>27007.0</td>\n",
       "      <td>25000.0</td>\n",
       "      <td>221.368852</td>\n",
       "      <td>0.357433</td>\n",
       "      <td>35844.984234</td>\n",
       "      <td>6.284495e+08</td>\n",
       "    </tr>\n",
       "  </tbody>\n",
       "</table>\n",
       "</div>"
      ],
      "text/plain": [
       "                                               name        category  \\\n",
       "ID                                                                    \n",
       "1963512116  LifeLog - The Home of Your Digital Life  Product Design   \n",
       "\n",
       "           main_category currency    deadline     goal             launched  \\\n",
       "ID                                                                            \n",
       "1963512116        Design      USD  2012-07-21  25000.0  2012-06-21 23:40:29   \n",
       "\n",
       "            pledged  state  backers country  usd pledged  usd_pledged_real  \\\n",
       "ID                                                                           \n",
       "1963512116  27007.0      1      122      US      27007.0           27007.0   \n",
       "\n",
       "            usd_goal_real  average_pledged  main_category_success  \\\n",
       "ID                                                                  \n",
       "1963512116        25000.0       221.368852               0.357433   \n",
       "\n",
       "            category_average_goal  category_total_pledge  \n",
       "ID                                                        \n",
       "1963512116           35844.984234           6.284495e+08  "
      ]
     },
     "execution_count": 389,
     "metadata": {},
     "output_type": "execute_result"
    }
   ],
   "source": [
    "gp = df.groupby('category')['usd_pledged_real'].sum()\n",
    "df['category_total_pledge'] = df['category'].map(gp)\n",
    "df.sort_values('category_total_pledge').tail(1)"
   ]
  },
  {
   "cell_type": "code",
   "execution_count": 390,
   "metadata": {},
   "outputs": [],
   "source": [
    "#delete all auxiliary columns\n",
    "df = df.drop(['average_pledged', 'main_category_success',\n",
    "         'category_average_goal', 'category_total_pledge'], axis=1)"
   ]
  },
  {
   "cell_type": "markdown",
   "metadata": {},
   "source": [
    "------"
   ]
  },
  {
   "cell_type": "markdown",
   "metadata": {},
   "source": [
    "As one can notice, there are both numerical and object-type data in our dataframe. \n",
    "\n",
    "We suggest you to split them to perform EDA separately. \n",
    "\n",
    "### Q1.7\n",
    "#### Split columns to 'numeric' (by data type) and object-type. How many 'object-type' features are there? - 7"
   ]
  },
  {
   "cell_type": "code",
   "execution_count": 391,
   "metadata": {},
   "outputs": [
    {
     "data": {
      "text/plain": [
       "name                 object\n",
       "category             object\n",
       "main_category        object\n",
       "currency             object\n",
       "deadline             object\n",
       "goal                float64\n",
       "launched             object\n",
       "pledged             float64\n",
       "state                 int64\n",
       "backers               int64\n",
       "country              object\n",
       "usd pledged         float64\n",
       "usd_pledged_real    float64\n",
       "usd_goal_real       float64\n",
       "dtype: object"
      ]
     },
     "execution_count": 391,
     "metadata": {},
     "output_type": "execute_result"
    }
   ],
   "source": [
    "df.dtypes"
   ]
  },
  {
   "cell_type": "code",
   "execution_count": 392,
   "metadata": {},
   "outputs": [
    {
     "name": "stdout",
     "output_type": "stream",
     "text": [
      "7 object-type columns, 7 numerical columns\n"
     ]
    }
   ],
   "source": [
    "obj_cols = df.select_dtypes(include='object')\n",
    "num_cols = df.select_dtypes(include=['int64', 'float64'])\n",
    "print('{n1} object-type columns, {n2} numerical columns'.format(n1=obj_cols.shape[1],\n",
    "                                                                n2=num_cols.shape[1])) "
   ]
  },
  {
   "cell_type": "markdown",
   "metadata": {},
   "source": [
    "### Q1.8\n",
    "#### Let's do a bit of feature engineering. Let's create column 'pledge2goal' which define as ratio of usd_pledged_real to goal. How many outliers are there? - 24505\n",
    "#### (We use a simple rule: an object is an outlier if it does not belong to [q25 - 1.5iqr, q75 + 1.5 iqr] interval, where qxx -- xx quantile, and iqr is inter-quantile range.)"
   ]
  },
  {
   "cell_type": "code",
   "execution_count": 393,
   "metadata": {},
   "outputs": [],
   "source": [
    "df['pledge2goal'] = df[['usd_pledged_real', 'goal']].apply(lambda x: x[0] / x[1], axis=1)"
   ]
  },
  {
   "cell_type": "code",
   "execution_count": 394,
   "metadata": {},
   "outputs": [
    {
     "name": "stdout",
     "output_type": "stream",
     "text": [
      "24505  - the number of outliers, while the total number of objects is  370454\n"
     ]
    }
   ],
   "source": [
    "q25 = df['pledge2goal'].quantile(0.25)\n",
    "q75 = df['pledge2goal'].quantile(0.75)\n",
    "iqr = q75 - q25\n",
    "print(df[(df['pledge2goal'] < q25 - iqr) | (df['pledge2goal'] > q75 + iqr)].shape[0],\n",
    "      ' - the number of outliers, while the total number of objects is ', df.shape[0])"
   ]
  },
  {
   "cell_type": "markdown",
   "metadata": {},
   "source": [
    "#### Q1.9\n",
    "#### Visualize the feature for success and fail cases. What can you say about received distributions? (use bins=10 or 20). Type letter as your answer - B\n",
    "- A. Distributions intersect significantly, hard to say for sure that the ratio matters.\n",
    "- B. Distributions have almost no intersection, the bigger ratio, the bigger success.\n",
    "- C. Distributions intersect significantly, the bigger ratio, the bigger success\n",
    "- D. Distributions have almost no intersection, the less ratio, the bigger success."
   ]
  },
  {
   "cell_type": "markdown",
   "metadata": {},
   "source": [
    "-----"
   ]
  },
  {
   "cell_type": "code",
   "execution_count": 395,
   "metadata": {},
   "outputs": [
    {
     "data": {
      "image/png": "[encoded data removed]",
      "text/plain": [
       "<Figure size 842.4x595.44 with 1 Axes>"
      ]
     },
     "metadata": {},
     "output_type": "display_data"
    }
   ],
   "source": [
    "ax = df[(df.state == 1) &\n",
    "        (df['pledge2goal'] >= q25 - iqr) &\n",
    "        (df['pledge2goal'] <= q75 + iqr)]['pledge2goal'].plot.hist(bins=20, alpha=0.5,\n",
    "                                                                   label='success', legend=True)\n",
    "ax = df[(df.state == 0) &\n",
    "        (df['pledge2goal'] >= q25 - iqr) &\n",
    "        (df['pledge2goal'] <= q75 + iqr)]['pledge2goal'].plot.hist(bins=20, alpha=0.5,\n",
    "                                                                   label='failure', legend=True)"
   ]
  },
  {
   "cell_type": "markdown",
   "metadata": {},
   "source": [
    "-----"
   ]
  },
  {
   "cell_type": "markdown",
   "metadata": {},
   "source": [
    "### Q1.10\n",
    "#### Continue with plot from Q1.9. Where are the peaks located? We expect two numbers here as the answer"
   ]
  },
  {
   "cell_type": "markdown",
   "metadata": {},
   "source": [
    "-----"
   ]
  },
  {
   "cell_type": "code",
   "execution_count": 396,
   "metadata": {},
   "outputs": [
    {
     "name": "stdout",
     "output_type": "stream",
     "text": [
      "1.02137257  - location of the peak for success\n",
      "0.05337499999999999  - location of the peak for failure\n"
     ]
    }
   ],
   "source": [
    "pledge2goal_success = df[(df.state == 1) &\n",
    "                      (df['pledge2goal'] >= q25 - iqr) &\n",
    "                      (df['pledge2goal'] <= q75 + iqr)]['pledge2goal'].to_numpy()\n",
    "pledge2goal_failure = df[(df.state == 0) &\n",
    "                      (df['pledge2goal'] >= q25 - iqr) &\n",
    "                      (df['pledge2goal'] <= q75 + iqr)]['pledge2goal'].to_numpy()\n",
    "hist_success = np.histogram(pledge2goal_success, bins=20)\n",
    "hist_failure = np.histogram(pledge2goal_failure, bins=20)\n",
    "\n",
    "#calculating the center of the bin containing maximum values\n",
    "print(hist_success[1][np.argmax(hist_success[0]):np.argmax(hist_success[0])+2].sum() / 2, \n",
    "     ' - location of the peak for success')\n",
    "print(hist_failure[1][np.argmax(hist_failure[0]):np.argmax(hist_failure[0])+2].sum() / 2, \n",
    "     ' - location of the peak for failure')"
   ]
  },
  {
   "cell_type": "markdown",
   "metadata": {},
   "source": [
    "-----"
   ]
  },
  {
   "cell_type": "markdown",
   "metadata": {},
   "source": [
    "### Q1.11\n",
    "#### Compute Pearson correlation coefficient between the pledge2real and target variable. - 0.015"
   ]
  },
  {
   "cell_type": "markdown",
   "metadata": {},
   "source": [
    "----"
   ]
  },
  {
   "cell_type": "code",
   "execution_count": 397,
   "metadata": {},
   "outputs": [
    {
     "data": {
      "text/html": [
       "<div>\n",
       "<style scoped>\n",
       "    .dataframe tbody tr th:only-of-type {\n",
       "        vertical-align: middle;\n",
       "    }\n",
       "\n",
       "    .dataframe tbody tr th {\n",
       "        vertical-align: top;\n",
       "    }\n",
       "\n",
       "    .dataframe thead th {\n",
       "        text-align: right;\n",
       "    }\n",
       "</style>\n",
       "<table border=\"1\" class=\"dataframe\">\n",
       "  <thead>\n",
       "    <tr style=\"text-align: right;\">\n",
       "      <th></th>\n",
       "      <th>pledge2goal</th>\n",
       "      <th>state</th>\n",
       "    </tr>\n",
       "  </thead>\n",
       "  <tbody>\n",
       "    <tr>\n",
       "      <th>pledge2goal</th>\n",
       "      <td>1.000000</td>\n",
       "      <td>0.014804</td>\n",
       "    </tr>\n",
       "    <tr>\n",
       "      <th>state</th>\n",
       "      <td>0.014804</td>\n",
       "      <td>1.000000</td>\n",
       "    </tr>\n",
       "  </tbody>\n",
       "</table>\n",
       "</div>"
      ],
      "text/plain": [
       "             pledge2goal     state\n",
       "pledge2goal     1.000000  0.014804\n",
       "state           0.014804  1.000000"
      ]
     },
     "execution_count": 397,
     "metadata": {},
     "output_type": "execute_result"
    }
   ],
   "source": [
    "df[['pledge2goal', 'state']].corr(method='pearson')"
   ]
  },
  {
   "cell_type": "markdown",
   "metadata": {},
   "source": [
    "-----"
   ]
  },
  {
   "cell_type": "markdown",
   "metadata": {},
   "source": [
    "### Q1.12\n",
    "#### Visualize dependancy of numerical data with success. What can you say about it?"
   ]
  },
  {
   "cell_type": "code",
   "execution_count": 398,
   "metadata": {},
   "outputs": [
    {
     "data": {
      "image/png": "[encoded data removed]",
      "text/plain": [
       "<Figure size 1152x648 with 6 Axes>"
      ]
     },
     "metadata": {},
     "output_type": "display_data"
    }
   ],
   "source": [
    "plt.figure(figsize=(16, 9))\n",
    "i = 0\n",
    "for col in num_cols:\n",
    "    if col != 'state':\n",
    "        plt.subplot(231+i)\n",
    "        i += 1\n",
    "        plt.scatter(num_cols['state'].to_numpy(), num_cols[col].to_numpy(), label=col+'-state', alpha=0.2)\n",
    "        plt.xlim(-0.2, 1.2)\n",
    "        plt.xticks([0.0, 1.0], ['0', '1'])\n",
    "        plt.legend()\n",
    "plt.show()"
   ]
  },
  {
   "cell_type": "markdown",
   "metadata": {},
   "source": [
    "There is no clear dependancy between the score and the target variable observed. However, as we have seen from the histogram, there is a clear dependancy between success and pledge2goal (without outliers)."
   ]
  },
  {
   "cell_type": "code",
   "execution_count": 399,
   "metadata": {},
   "outputs": [],
   "source": [
    "num_cols['pledge2goal'] = df['pledge2goal']"
   ]
  },
  {
   "cell_type": "code",
   "execution_count": 400,
   "metadata": {},
   "outputs": [
    {
     "data": {
      "image/png": "[encoded data removed]",
      "text/plain": [
       "<Figure size 360x360 with 1 Axes>"
      ]
     },
     "metadata": {},
     "output_type": "display_data"
    }
   ],
   "source": [
    "plt.figure(figsize=(5, 5))\n",
    "cond = (num_cols['pledge2goal'] >= q25 - iqr) & (num_cols['pledge2goal'] <= q75 + iqr)\n",
    "plt.scatter(num_cols[cond]['state'].to_numpy(),\n",
    "            num_cols[cond]['pledge2goal'].to_numpy(),\n",
    "            label='pledge2goal-state',\n",
    "            alpha=0.002)\n",
    "plt.xlim(-0.2, 1.2)\n",
    "plt.xticks([0.0, 1.0], ['0', '1'])\n",
    "plt.legend()\n",
    "plt.show()"
   ]
  },
  {
   "cell_type": "markdown",
   "metadata": {},
   "source": [
    "# Feature generation\n",
    "Lets' generate some more feature that could be useful"
   ]
  },
  {
   "cell_type": "markdown",
   "metadata": {},
   "source": [
    "### Q2.1 Create a year column that would hold the year. How many projects were in year 2012? - 41111"
   ]
  },
  {
   "cell_type": "code",
   "execution_count": 401,
   "metadata": {},
   "outputs": [],
   "source": [
    "df['launched'] = df['launched'].apply(lambda x: pd.to_datetime(x))\n",
    "df['year'] = df['launched'].apply(lambda x: x.year)"
   ]
  },
  {
   "cell_type": "code",
   "execution_count": 402,
   "metadata": {},
   "outputs": [
    {
     "name": "stdout",
     "output_type": "stream",
     "text": [
      "41111  projects were in year 2012\n"
     ]
    }
   ],
   "source": [
    "print(df[df.year == 2012].shape[0], ' projects were in year 2012')"
   ]
  },
  {
   "cell_type": "markdown",
   "metadata": {},
   "source": [
    "### Q2.2 Make a column 'duration_days' with number of full days from launch to deadline.\n",
    "What is median value for this column? - 29"
   ]
  },
  {
   "cell_type": "code",
   "execution_count": 403,
   "metadata": {},
   "outputs": [],
   "source": [
    "df['deadline'] = df['deadline'].apply(lambda x: pd.to_datetime(x))\n",
    "df['duration_days'] = df[['launched', 'deadline']].apply(lambda x: (x[1] - x[0]).days, axis=1)"
   ]
  },
  {
   "cell_type": "code",
   "execution_count": 404,
   "metadata": {},
   "outputs": [
    {
     "data": {
      "text/plain": [
       "29.0"
      ]
     },
     "execution_count": 404,
     "metadata": {},
     "output_type": "execute_result"
    }
   ],
   "source": [
    "df['duration_days'].median()"
   ]
  },
  {
   "cell_type": "markdown",
   "metadata": {},
   "source": [
    "### Q2.3 Delete mistaken value from column 'country'. What is the value? - N,0\""
   ]
  },
  {
   "cell_type": "code",
   "execution_count": 405,
   "metadata": {},
   "outputs": [
    {
     "data": {
      "text/plain": [
       "US      289671\n",
       "GB       33215\n",
       "CA       14508\n",
       "AU        7681\n",
       "DE        4057\n",
       "FR        2873\n",
       "NL        2807\n",
       "IT        2775\n",
       "ES        2204\n",
       "SE        1718\n",
       "MX        1632\n",
       "NZ        1425\n",
       "DK        1083\n",
       "IE         793\n",
       "CH         736\n",
       "NO         694\n",
       "BE         597\n",
       "AT         576\n",
       "HK         564\n",
       "SG         521\n",
       "N,0\"       232\n",
       "LU          61\n",
       "JP          31\n",
       "Name: country, dtype: int64"
      ]
     },
     "execution_count": 405,
     "metadata": {},
     "output_type": "execute_result"
    }
   ],
   "source": [
    "df.country.value_counts()"
   ]
  },
  {
   "cell_type": "code",
   "execution_count": 406,
   "metadata": {},
   "outputs": [],
   "source": [
    "df = df.drop(df[df.country == 'N,0\"'].index)"
   ]
  },
  {
   "cell_type": "markdown",
   "metadata": {},
   "source": [
    "### Q2.4 Make column 'region' out of column country (america, europe, asia, oceania(including australiza/nz))\n",
    "Where is the region with the worst conversion rate (percentage of successful projects) - oceania"
   ]
  },
  {
   "cell_type": "code",
   "execution_count": 407,
   "metadata": {},
   "outputs": [],
   "source": [
    "regions = {'america': ['US', 'CA', 'MX'],\n",
    "           'europe': ['GB', 'DE', 'FR', 'NL', 'IT', 'ES' ,'SE', 'DK', 'IE', 'CH', 'NO', 'BE', 'AT', 'LU'],\n",
    "           'asia': ['HK', 'SG'],\n",
    "           'oceania': ['AU', 'NZ', 'JP']}\n",
    "inv_regions = {}\n",
    "for k,v in regions.items():\n",
    "    for x in v:\n",
    "        inv_regions.setdefault(x,k)"
   ]
  },
  {
   "cell_type": "code",
   "execution_count": 408,
   "metadata": {},
   "outputs": [],
   "source": [
    "df['region'] = df['country'].map(inv_regions)"
   ]
  },
  {
   "cell_type": "code",
   "execution_count": 409,
   "metadata": {},
   "outputs": [
    {
     "data": {
      "text/html": [
       "<div>\n",
       "<style scoped>\n",
       "    .dataframe tbody tr th:only-of-type {\n",
       "        vertical-align: middle;\n",
       "    }\n",
       "\n",
       "    .dataframe tbody tr th {\n",
       "        vertical-align: top;\n",
       "    }\n",
       "\n",
       "    .dataframe thead th {\n",
       "        text-align: right;\n",
       "    }\n",
       "</style>\n",
       "<table border=\"1\" class=\"dataframe\">\n",
       "  <thead>\n",
       "    <tr style=\"text-align: right;\">\n",
       "      <th></th>\n",
       "      <th>name</th>\n",
       "      <th>category</th>\n",
       "      <th>main_category</th>\n",
       "      <th>currency</th>\n",
       "      <th>deadline</th>\n",
       "      <th>goal</th>\n",
       "      <th>launched</th>\n",
       "      <th>pledged</th>\n",
       "      <th>state</th>\n",
       "      <th>backers</th>\n",
       "      <th>country</th>\n",
       "      <th>usd pledged</th>\n",
       "      <th>usd_pledged_real</th>\n",
       "      <th>usd_goal_real</th>\n",
       "      <th>pledge2goal</th>\n",
       "      <th>year</th>\n",
       "      <th>duration_days</th>\n",
       "      <th>region</th>\n",
       "      <th>regioun_conversion_rate</th>\n",
       "    </tr>\n",
       "    <tr>\n",
       "      <th>ID</th>\n",
       "      <th></th>\n",
       "      <th></th>\n",
       "      <th></th>\n",
       "      <th></th>\n",
       "      <th></th>\n",
       "      <th></th>\n",
       "      <th></th>\n",
       "      <th></th>\n",
       "      <th></th>\n",
       "      <th></th>\n",
       "      <th></th>\n",
       "      <th></th>\n",
       "      <th></th>\n",
       "      <th></th>\n",
       "      <th></th>\n",
       "      <th></th>\n",
       "      <th></th>\n",
       "      <th></th>\n",
       "      <th></th>\n",
       "    </tr>\n",
       "  </thead>\n",
       "  <tbody>\n",
       "    <tr>\n",
       "      <th>1625536067</th>\n",
       "      <td>Parent Sandwich Stand Up Comedy CD</td>\n",
       "      <td>Music</td>\n",
       "      <td>Music</td>\n",
       "      <td>AUD</td>\n",
       "      <td>2015-10-14</td>\n",
       "      <td>1000.0</td>\n",
       "      <td>2015-09-14 02:49:40</td>\n",
       "      <td>1050.0</td>\n",
       "      <td>1</td>\n",
       "      <td>22</td>\n",
       "      <td>AU</td>\n",
       "      <td>744.59</td>\n",
       "      <td>761.97</td>\n",
       "      <td>725.69</td>\n",
       "      <td>0.76197</td>\n",
       "      <td>2015</td>\n",
       "      <td>29</td>\n",
       "      <td>oceania</td>\n",
       "      <td>0.269782</td>\n",
       "    </tr>\n",
       "  </tbody>\n",
       "</table>\n",
       "</div>"
      ],
      "text/plain": [
       "                                          name category main_category  \\\n",
       "ID                                                                      \n",
       "1625536067  Parent Sandwich Stand Up Comedy CD    Music         Music   \n",
       "\n",
       "           currency   deadline    goal            launched  pledged  state  \\\n",
       "ID                                                                           \n",
       "1625536067      AUD 2015-10-14  1000.0 2015-09-14 02:49:40   1050.0      1   \n",
       "\n",
       "            backers country  usd pledged  usd_pledged_real  usd_goal_real  \\\n",
       "ID                                                                          \n",
       "1625536067       22      AU       744.59            761.97         725.69   \n",
       "\n",
       "            pledge2goal  year  duration_days   region  regioun_conversion_rate  \n",
       "ID                                                                              \n",
       "1625536067      0.76197  2015             29  oceania                 0.269782  "
      ]
     },
     "execution_count": 409,
     "metadata": {},
     "output_type": "execute_result"
    }
   ],
   "source": [
    "gp = df.groupby('region')['state'].mean()\n",
    "df['regioun_conversion_rate'] = df['region'].map(gp)\n",
    "df.sort_values('regioun_conversion_rate').head(1)"
   ]
  },
  {
   "cell_type": "code",
   "execution_count": 410,
   "metadata": {},
   "outputs": [],
   "source": [
    "df = df.drop('regioun_conversion_rate', axis=1)"
   ]
  },
  {
   "cell_type": "markdown",
   "metadata": {},
   "source": [
    "### Q2.5 For each main_category leave only the three most popular category and replace other with \"other\"\n",
    "What is the most frequent subcategory for design? - Product Design"
   ]
  },
  {
   "cell_type": "code",
   "execution_count": 411,
   "metadata": {},
   "outputs": [],
   "source": [
    "gp = df.groupby('main_category')\n",
    "cat_mapping = {}\n",
    "for main_cat in gp.groups.keys():\n",
    "    most_pop_cat = gp.get_group(main_cat)['category'].value_counts()[:3].index\n",
    "    for cat in gp.get_group(main_cat)['category'].value_counts().index:\n",
    "        if cat in most_pop_cat:\n",
    "            cat_mapping.setdefault(cat, cat)\n",
    "        else:\n",
    "            cat_mapping.setdefault(cat, 'other')\n",
    "            \n",
    "df['category'] = df['category'].map(cat_mapping)"
   ]
  },
  {
   "cell_type": "code",
   "execution_count": 412,
   "metadata": {},
   "outputs": [
    {
     "data": {
      "text/plain": [
       "other             117811\n",
       "Product Design     21886\n",
       "Documentary        16065\n",
       "Name: category, dtype: int64"
      ]
     },
     "execution_count": 412,
     "metadata": {},
     "output_type": "execute_result"
    }
   ],
   "source": [
    "df['category'].value_counts()[:3]"
   ]
  },
  {
   "cell_type": "code",
   "execution_count": 413,
   "metadata": {},
   "outputs": [
    {
     "data": {
      "text/plain": [
       "Index(['Product Design'], dtype='object')"
      ]
     },
     "execution_count": 413,
     "metadata": {},
     "output_type": "execute_result"
    }
   ],
   "source": [
    "gp.get_group('Design')['category'].value_counts()[:1].index"
   ]
  },
  {
   "cell_type": "markdown",
   "metadata": {},
   "source": [
    "### Q2.6 create the columns \"name_length\" with length of the name.\n",
    "What is the biggets length? - 96"
   ]
  },
  {
   "cell_type": "code",
   "execution_count": 414,
   "metadata": {},
   "outputs": [],
   "source": [
    "df['name_length'] = [len(str(x)) for x in df['name'].values]"
   ]
  },
  {
   "cell_type": "code",
   "execution_count": 415,
   "metadata": {},
   "outputs": [
    {
     "data": {
      "text/plain": [
       "96"
      ]
     },
     "execution_count": 415,
     "metadata": {},
     "output_type": "execute_result"
    }
   ],
   "source": [
    "df['name_length'].max()"
   ]
  },
  {
   "cell_type": "code",
   "execution_count": 416,
   "metadata": {},
   "outputs": [],
   "source": [
    "# splitting recently created columns into numerical and object-type ones\n",
    "num_cols['year'] = df['year']\n",
    "num_cols['duration_days'] = df['duration_days']\n",
    "num_cols['name_length'] = df['name_length']\n",
    "obj_cols['region'] = df['region']\n",
    "obj_cols['category'] = df['category']"
   ]
  },
  {
   "cell_type": "markdown",
   "metadata": {},
   "source": [
    "# Preprocessing"
   ]
  },
  {
   "cell_type": "markdown",
   "metadata": {},
   "source": [
    "### Q3.1 Drop the leaking columns\n",
    "Based on what we have already seen, can you assume what features are leakeges? What is the columns? Drop them\n"
   ]
  },
  {
   "cell_type": "markdown",
   "metadata": {},
   "source": [
    "We can assume that the feature 'pledge2goal' is leaky considering the histogram and scatterplot. Indeed, in general projects have to gain at least the same amount of money as it was in their goal (pledge2goal >= 1) to be successfull, so leaving this feature would make the task too simple."
   ]
  },
  {
   "cell_type": "code",
   "execution_count": 417,
   "metadata": {},
   "outputs": [],
   "source": [
    "num_cols = num_cols.drop('pledge2goal', axis=1)"
   ]
  },
  {
   "cell_type": "markdown",
   "metadata": {},
   "source": [
    "### Q3.2 Deal with the categorical features.\n",
    "Lets drop some more columns for now (name, deadline, launched, country, usd_goal_real). Note: you can re-use these columns in the Q5 section. \n",
    "Preprocess the rest of categorical columns. How many columns do you have now?"
   ]
  },
  {
   "cell_type": "code",
   "execution_count": 418,
   "metadata": {},
   "outputs": [],
   "source": [
    "obj_cols = obj_cols.drop(['name', 'deadline', 'launched'], axis=1)\n",
    "num_cols = num_cols.drop('usd_goal_real', axis=1)"
   ]
  },
  {
   "cell_type": "code",
   "execution_count": 419,
   "metadata": {},
   "outputs": [
    {
     "data": {
      "text/plain": [
       "category         45\n",
       "main_category    15\n",
       "currency         14\n",
       "country          23\n",
       "region            4\n",
       "dtype: int64"
      ]
     },
     "execution_count": 419,
     "metadata": {},
     "output_type": "execute_result"
    }
   ],
   "source": [
    "obj_cols.nunique()"
   ]
  },
  {
   "cell_type": "markdown",
   "metadata": {},
   "source": [
    "We can also drop 'country' column because we grouped columns into regiouns and category because there is too much of unique values in this column."
   ]
  },
  {
   "cell_type": "code",
   "execution_count": 420,
   "metadata": {},
   "outputs": [],
   "source": [
    "obj_cols = obj_cols.drop(['category', 'country'], axis=1)"
   ]
  },
  {
   "cell_type": "code",
   "execution_count": 421,
   "metadata": {},
   "outputs": [],
   "source": [
    "from sklearn.preprocessing import OneHotEncoder\n",
    "\n",
    "ohe = OneHotEncoder(sparse=False)\n",
    "encoded_features = pd.DataFrame(ohe.fit_transform(df[obj_cols.columns]))"
   ]
  },
  {
   "cell_type": "code",
   "execution_count": 422,
   "metadata": {},
   "outputs": [
    {
     "data": {
      "text/plain": [
       "[array(['Art', 'Comics', 'Crafts', 'Dance', 'Design', 'Fashion',\n",
       "        'Film & Video', 'Food', 'Games', 'Journalism', 'Music',\n",
       "        'Photography', 'Publishing', 'Technology', 'Theater'], dtype=object),\n",
       " array(['AUD', 'CAD', 'CHF', 'DKK', 'EUR', 'GBP', 'HKD', 'JPY', 'MXN',\n",
       "        'NOK', 'NZD', 'SEK', 'SGD', 'USD'], dtype=object),\n",
       " array(['america', 'asia', 'europe', 'oceania'], dtype=object)]"
      ]
     },
     "execution_count": 422,
     "metadata": {},
     "output_type": "execute_result"
    }
   ],
   "source": [
    "ohe.categories_"
   ]
  },
  {
   "cell_type": "code",
   "execution_count": 423,
   "metadata": {},
   "outputs": [],
   "source": [
    "X_train, X_test, y_train, y_test = train_test_split(df, df.state, train_size=0.8, random_state=42)"
   ]
  },
  {
   "cell_type": "code",
   "execution_count": 424,
   "metadata": {},
   "outputs": [
    {
     "data": {
      "text/plain": [
       "ID\n",
       "100051531     0\n",
       "1463426073    0\n",
       "387753557     0\n",
       "1586954015    0\n",
       "970867644     1\n",
       "             ..\n",
       "418243752     0\n",
       "976846075     0\n",
       "168483761     0\n",
       "1763197930    1\n",
       "1633094112    0\n",
       "Name: state, Length: 296177, dtype: int64"
      ]
     },
     "execution_count": 424,
     "metadata": {},
     "output_type": "execute_result"
    }
   ],
   "source": [
    "y_train"
   ]
  },
  {
   "cell_type": "code",
   "execution_count": 425,
   "metadata": {},
   "outputs": [],
   "source": [
    "main_category_cols = [f'main_category_{cat}' for cat in ohe.categories_[0]]\n",
    "currency_cols = [f'currency_{cat}' for cat in ohe.categories_[1]]\n",
    "region_cols = [f'region_{cat}' for cat in ohe.categories_[2]]\n",
    "\n",
    "dummy_cols_names = [*main_category_cols, *currency_cols, *region_cols]\n",
    "encoded_features.columns = dummy_cols_names"
   ]
  },
  {
   "cell_type": "code",
   "execution_count": 428,
   "metadata": {},
   "outputs": [],
   "source": [
    "df.reset_index(drop=True, inplace=True)\n",
    "df.drop(obj_cols.columns, axis=1, inplace=True)\n",
    "df = pd.concat([df, encoded_features], axis=1)"
   ]
  },
  {
   "cell_type": "code",
   "execution_count": 429,
   "metadata": {},
   "outputs": [
    {
     "name": "stdout",
     "output_type": "stream",
     "text": [
      "42  columns we have now\n"
     ]
    }
   ],
   "source": [
    "print(num_cols.shape[1] + len(dummy_cols_names), ' columns we have now')"
   ]
  },
  {
   "cell_type": "markdown",
   "metadata": {},
   "source": [
    "### Q3.3 Split the dataset\n",
    "Separate the target column (state) without stratification and with random state 42 and test size 0.2. How many of successful projects in train set?"
   ]
  },
  {
   "cell_type": "code",
   "execution_count": 430,
   "metadata": {},
   "outputs": [],
   "source": [
    "cols = np.concatenate((num_cols.columns, dummy_cols_names))"
   ]
  },
  {
   "cell_type": "code",
   "execution_count": 431,
   "metadata": {},
   "outputs": [],
   "source": [
    "from sklearn.model_selection import train_test_split\n",
    "X_train, X_test, y_train, y_test = train_test_split(df[cols],\n",
    "                                                    df.state, train_size=0.8, random_state=42)"
   ]
  },
  {
   "cell_type": "code",
   "execution_count": 437,
   "metadata": {},
   "outputs": [
    {
     "name": "stdout",
     "output_type": "stream",
     "text": [
      "107245 successful projects are in train set\n"
     ]
    }
   ],
   "source": [
    "print(y_train.sum(), 'successful projects are in train set')"
   ]
  },
  {
   "cell_type": "markdown",
   "metadata": {},
   "source": [
    "### Q3.4 Scale the numeric columns with standard scaler\n",
    "What is max number in goal field after scaling?"
   ]
  },
  {
   "cell_type": "code",
   "execution_count": 439,
   "metadata": {},
   "outputs": [],
   "source": [
    "from sklearn.preprocessing import StandardScaler\n",
    "\n",
    "scaler = StandardScaler()\n",
    "scaler.fit(num_cols)\n",
    "num_cols = scaler.transform(num_cols)"
   ]
  },
  {
   "cell_type": "code",
   "execution_count": null,
   "metadata": {},
   "outputs": [],
   "source": []
  },
  {
   "cell_type": "markdown",
   "metadata": {},
   "source": [
    "# Feature selection"
   ]
  },
  {
   "cell_type": "markdown",
   "metadata": {},
   "source": [
    "### Q4.1 Estimate feature importance by Anova\n",
    "What is the two most important features by anova with f classifier?"
   ]
  },
  {
   "cell_type": "markdown",
   "metadata": {},
   "source": [
    "------"
   ]
  },
  {
   "cell_type": "markdown",
   "metadata": {},
   "source": [
    "------"
   ]
  },
  {
   "cell_type": "markdown",
   "metadata": {},
   "source": [
    "## Build a model with logistic regression\n",
    "\n",
    "Use l2 penalty and search for optimal C in np.logspace(-2, 4, 7)."
   ]
  },
  {
   "cell_type": "markdown",
   "metadata": {},
   "source": [
    "### Q4.2 What is an optimal C for l2 regularization?"
   ]
  },
  {
   "cell_type": "markdown",
   "metadata": {},
   "source": [
    "### Q4.3 What is the accuracy for this params?"
   ]
  },
  {
   "cell_type": "markdown",
   "metadata": {},
   "source": [
    "### Q4.4 What is the two most important features by logistic regression estimation?"
   ]
  },
  {
   "cell_type": "markdown",
   "metadata": {},
   "source": [
    "### Q4.5 Build roc curve and calculate roc-auc score. What is the roc-auc score?"
   ]
  },
  {
   "cell_type": "markdown",
   "metadata": {},
   "source": [
    "\n",
    "------"
   ]
  },
  {
   "cell_type": "markdown",
   "metadata": {},
   "source": [
    "------"
   ]
  },
  {
   "cell_type": "markdown",
   "metadata": {},
   "source": [
    "## Build a random forest model\n",
    "Use random state 42, maximum depth from 2 to 15, and number of estimators in `[10, 20, 50, 100, 200]`"
   ]
  },
  {
   "cell_type": "markdown",
   "metadata": {},
   "source": [
    "### Q4.6 What is an optimal depth and number of trees?"
   ]
  },
  {
   "cell_type": "markdown",
   "metadata": {},
   "source": [
    "### Q4.7 What is the accuracy for this params?"
   ]
  },
  {
   "cell_type": "markdown",
   "metadata": {},
   "source": [
    "### Q4.8 Build precision-recall curve. What is the precision for recall 0.5?"
   ]
  },
  {
   "cell_type": "markdown",
   "metadata": {},
   "source": [
    "### Q4.9 What is the two most important features by random forest?"
   ]
  },
  {
   "cell_type": "markdown",
   "metadata": {},
   "source": [
    "------"
   ]
  },
  {
   "cell_type": "markdown",
   "metadata": {},
   "source": [
    "------"
   ]
  },
  {
   "cell_type": "markdown",
   "metadata": {},
   "source": [
    "# Build the stronger model"
   ]
  },
  {
   "cell_type": "markdown",
   "metadata": {},
   "source": [
    "### Q5.1 Generate two (or more) meaningfull features"
   ]
  },
  {
   "cell_type": "markdown",
   "metadata": {},
   "source": [
    "### Q5.2 Train an xgboost, that's beat random forest"
   ]
  }
 ],
 "metadata": {
  "colab": {
   "name": "kickstarter.ipynb",
   "provenance": []
  },
  "kernelspec": {
   "display_name": "Python 3",
   "language": "python",
   "name": "python3"
  },
  "language_info": {
   "codemirror_mode": {
    "name": "ipython",
    "version": 3
   },
   "file_extension": ".py",
   "mimetype": "text/x-python",
   "name": "python",
   "nbconvert_exporter": "python",
   "pygments_lexer": "ipython3",
   "version": "3.7.4"
  }
 },
 "nbformat": 4,
 "nbformat_minor": 4
}
