{
 "cells": [
  {
   "cell_type": "markdown",
   "metadata": {},
   "source": [
    "Video link https://youtu.be/q0VofqW4g20"
   ]
  },
  {
   "cell_type": "markdown",
   "metadata": {},
   "source": [
    "# Walmart TripType prediction\n",
    "\n",
    "https://www.kaggle.com/c/walmart-recruiting-trip-type-classification\n",
    "\n",
    ">For this competition, you are tasked with categorizing shopping trip types based on the items that customers purchased. To give a few hypothetical examples of trip types: a customer may make a small daily dinner trip, a weekly large grocery trip, a trip to buy gifts for an upcoming holiday, or a seasonal trip to buy clothes.\n",
    "\n",
    "\n",
    "## Multi-class classification, goal is to predict `type of the trip`.\n",
    "\n"
   ]
  },
  {
   "cell_type": "code",
   "execution_count": 1,
   "metadata": {},
   "outputs": [],
   "source": [
    "# !kaggle competitions download -c walmart-recruiting-trip-type-classification"
   ]
  },
  {
   "cell_type": "code",
   "execution_count": 2,
   "metadata": {},
   "outputs": [],
   "source": [
    "import pandas as pd\n",
    "import numpy as np\n",
    "import matplotlib.pyplot as plt\n",
    "import seaborn as sns\n",
    "%matplotlib inline"
   ]
  },
  {
   "cell_type": "code",
   "execution_count": 3,
   "metadata": {},
   "outputs": [],
   "source": [
    "train = pd.read_csv('walmart-recruiting-trip-type-classification/train.csv')\n",
    "test = pd.read_csv('walmart-recruiting-trip-type-classification/test.csv')"
   ]
  },
  {
   "cell_type": "code",
   "execution_count": 4,
   "metadata": {},
   "outputs": [
    {
     "data": {
      "text/html": [
       "<div>\n",
       "<style scoped>\n",
       "    .dataframe tbody tr th:only-of-type {\n",
       "        vertical-align: middle;\n",
       "    }\n",
       "\n",
       "    .dataframe tbody tr th {\n",
       "        vertical-align: top;\n",
       "    }\n",
       "\n",
       "    .dataframe thead th {\n",
       "        text-align: right;\n",
       "    }\n",
       "</style>\n",
       "<table border=\"1\" class=\"dataframe\">\n",
       "  <thead>\n",
       "    <tr style=\"text-align: right;\">\n",
       "      <th></th>\n",
       "      <th>TripType</th>\n",
       "      <th>VisitNumber</th>\n",
       "      <th>Weekday</th>\n",
       "      <th>Upc</th>\n",
       "      <th>ScanCount</th>\n",
       "      <th>DepartmentDescription</th>\n",
       "      <th>FinelineNumber</th>\n",
       "    </tr>\n",
       "  </thead>\n",
       "  <tbody>\n",
       "    <tr>\n",
       "      <td>0</td>\n",
       "      <td>999</td>\n",
       "      <td>5</td>\n",
       "      <td>Friday</td>\n",
       "      <td>6.811315e+10</td>\n",
       "      <td>-1</td>\n",
       "      <td>FINANCIAL SERVICES</td>\n",
       "      <td>1000.0</td>\n",
       "    </tr>\n",
       "    <tr>\n",
       "      <td>1</td>\n",
       "      <td>30</td>\n",
       "      <td>7</td>\n",
       "      <td>Friday</td>\n",
       "      <td>6.053882e+10</td>\n",
       "      <td>1</td>\n",
       "      <td>SHOES</td>\n",
       "      <td>8931.0</td>\n",
       "    </tr>\n",
       "    <tr>\n",
       "      <td>2</td>\n",
       "      <td>30</td>\n",
       "      <td>7</td>\n",
       "      <td>Friday</td>\n",
       "      <td>7.410811e+09</td>\n",
       "      <td>1</td>\n",
       "      <td>PERSONAL CARE</td>\n",
       "      <td>4504.0</td>\n",
       "    </tr>\n",
       "    <tr>\n",
       "      <td>3</td>\n",
       "      <td>26</td>\n",
       "      <td>8</td>\n",
       "      <td>Friday</td>\n",
       "      <td>2.238404e+09</td>\n",
       "      <td>2</td>\n",
       "      <td>PAINT AND ACCESSORIES</td>\n",
       "      <td>3565.0</td>\n",
       "    </tr>\n",
       "    <tr>\n",
       "      <td>4</td>\n",
       "      <td>26</td>\n",
       "      <td>8</td>\n",
       "      <td>Friday</td>\n",
       "      <td>2.006614e+09</td>\n",
       "      <td>2</td>\n",
       "      <td>PAINT AND ACCESSORIES</td>\n",
       "      <td>1017.0</td>\n",
       "    </tr>\n",
       "  </tbody>\n",
       "</table>\n",
       "</div>"
      ],
      "text/plain": [
       "   TripType  VisitNumber Weekday           Upc  ScanCount  \\\n",
       "0       999            5  Friday  6.811315e+10         -1   \n",
       "1        30            7  Friday  6.053882e+10          1   \n",
       "2        30            7  Friday  7.410811e+09          1   \n",
       "3        26            8  Friday  2.238404e+09          2   \n",
       "4        26            8  Friday  2.006614e+09          2   \n",
       "\n",
       "   DepartmentDescription  FinelineNumber  \n",
       "0     FINANCIAL SERVICES          1000.0  \n",
       "1                  SHOES          8931.0  \n",
       "2          PERSONAL CARE          4504.0  \n",
       "3  PAINT AND ACCESSORIES          3565.0  \n",
       "4  PAINT AND ACCESSORIES          1017.0  "
      ]
     },
     "execution_count": 4,
     "metadata": {},
     "output_type": "execute_result"
    }
   ],
   "source": [
    "train.head()"
   ]
  },
  {
   "cell_type": "markdown",
   "metadata": {},
   "source": [
    "### Columns description\n",
    "\n",
    "- `TripType` - a categorical id representing the type of shopping trip the customer made. This is the ground truth that you are predicting. TripType_999 is an \"other\" category.\n",
    "- `VisitNumber` - an id corresponding to a single trip by a single customer\n",
    "- `Weekday` - the weekday of the trip\n",
    "- `Upc`- the UPC number of the product purchased\n",
    "- `ScanCount` - the number of the given item that was purchased. A negative value indicates a product return.\n",
    "- `DepartmentDescription` - a high-level description of the item's department\n",
    "- `FinelineNumber` - a more refined category for each of the products, created by Walmart\n"
   ]
  },
  {
   "cell_type": "code",
   "execution_count": 5,
   "metadata": {},
   "outputs": [
    {
     "data": {
      "text/plain": [
       "(647054, 7)"
      ]
     },
     "execution_count": 5,
     "metadata": {},
     "output_type": "execute_result"
    }
   ],
   "source": [
    "train.shape"
   ]
  },
  {
   "cell_type": "code",
   "execution_count": 6,
   "metadata": {},
   "outputs": [
    {
     "data": {
      "text/plain": [
       "TripType                 647054\n",
       "VisitNumber              647054\n",
       "Weekday                  647054\n",
       "Upc                      642925\n",
       "ScanCount                647054\n",
       "DepartmentDescription    645693\n",
       "FinelineNumber           642925\n",
       "dtype: int64"
      ]
     },
     "execution_count": 6,
     "metadata": {},
     "output_type": "execute_result"
    }
   ],
   "source": [
    "train.count()"
   ]
  },
  {
   "cell_type": "code",
   "execution_count": 7,
   "metadata": {},
   "outputs": [
    {
     "data": {
      "text/plain": [
       "40     174164\n",
       "39      95504\n",
       "37      38954\n",
       "38      29565\n",
       "25      27609\n",
       "7       23199\n",
       "8       22844\n",
       "36      21990\n",
       "44      20424\n",
       "42      19468\n",
       "24      18015\n",
       "999     17590\n",
       "9       16820\n",
       "32      13843\n",
       "5       13836\n",
       "35      12501\n",
       "33       9918\n",
       "15       7147\n",
       "3        6827\n",
       "43       6383\n",
       "41       5508\n",
       "30       4861\n",
       "34       4751\n",
       "27       4613\n",
       "21       4032\n",
       "22       3592\n",
       "6        3405\n",
       "20       3116\n",
       "18       2977\n",
       "28       2664\n",
       "26       2507\n",
       "12       2108\n",
       "29       2105\n",
       "31       1765\n",
       "19       1188\n",
       "4         901\n",
       "23        325\n",
       "14         35\n",
       "Name: TripType, dtype: int64"
      ]
     },
     "execution_count": 7,
     "metadata": {},
     "output_type": "execute_result"
    }
   ],
   "source": [
    "train.TripType.value_counts()"
   ]
  },
  {
   "cell_type": "markdown",
   "metadata": {},
   "source": [
    "# 1. Understand the task.\n",
    "\n",
    "> Every single ml task has its features, and there are no universal solutions, only generally working principles.\n",
    "\n",
    "We need to predict type of the visit: `TripType`. Every row of the data table contains information about a single product not a visit, threfore we need to combine the information about the visit from all the purchases. \n",
    "\n",
    "![](https://downloader.disk.yandex.ru/preview/efd0ee1162a479288a9ef907b7c627e0216b9b3eb9f85500ee4e0a0a66552c4c/5f6c7f77/eeebh5OVftecfJjMjJc1xYaANWzMwwdQQtKH72IlRPTvgOXDhJidoIyHmzaIk9kp8pZpk9fLNjeTpe27JpbpDg==?uid=0&filename=Screenshot+from+2020-09-24+10-12-50.png&disposition=inline&hash=&limit=0&content_type=image%2Fpng&tknv=v2&owner_uid=159868851&size=2048x2048)\n",
    "\n",
    "image link https://yadi.sk/i/ShJNKZ-42X65NA\n",
    "\n",
    "Unfortunately, we do not have the information about customers, so we do not know if some of the Visits were performed by the same person.\n"
   ]
  },
  {
   "cell_type": "code",
   "execution_count": 8,
   "metadata": {},
   "outputs": [
    {
     "data": {
      "text/html": [
       "<div>\n",
       "<style scoped>\n",
       "    .dataframe tbody tr th:only-of-type {\n",
       "        vertical-align: middle;\n",
       "    }\n",
       "\n",
       "    .dataframe tbody tr th {\n",
       "        vertical-align: top;\n",
       "    }\n",
       "\n",
       "    .dataframe thead th {\n",
       "        text-align: right;\n",
       "    }\n",
       "</style>\n",
       "<table border=\"1\" class=\"dataframe\">\n",
       "  <thead>\n",
       "    <tr style=\"text-align: right;\">\n",
       "      <th></th>\n",
       "      <th>TripType</th>\n",
       "      <th>VisitNumber</th>\n",
       "      <th>Weekday</th>\n",
       "      <th>Upc</th>\n",
       "      <th>ScanCount</th>\n",
       "      <th>DepartmentDescription</th>\n",
       "      <th>FinelineNumber</th>\n",
       "    </tr>\n",
       "  </thead>\n",
       "  <tbody>\n",
       "    <tr>\n",
       "      <td>0</td>\n",
       "      <td>999</td>\n",
       "      <td>5</td>\n",
       "      <td>Friday</td>\n",
       "      <td>6.811315e+10</td>\n",
       "      <td>-1</td>\n",
       "      <td>FINANCIAL SERVICES</td>\n",
       "      <td>1000.0</td>\n",
       "    </tr>\n",
       "    <tr>\n",
       "      <td>1</td>\n",
       "      <td>30</td>\n",
       "      <td>7</td>\n",
       "      <td>Friday</td>\n",
       "      <td>6.053882e+10</td>\n",
       "      <td>1</td>\n",
       "      <td>SHOES</td>\n",
       "      <td>8931.0</td>\n",
       "    </tr>\n",
       "    <tr>\n",
       "      <td>2</td>\n",
       "      <td>30</td>\n",
       "      <td>7</td>\n",
       "      <td>Friday</td>\n",
       "      <td>7.410811e+09</td>\n",
       "      <td>1</td>\n",
       "      <td>PERSONAL CARE</td>\n",
       "      <td>4504.0</td>\n",
       "    </tr>\n",
       "    <tr>\n",
       "      <td>3</td>\n",
       "      <td>26</td>\n",
       "      <td>8</td>\n",
       "      <td>Friday</td>\n",
       "      <td>2.238404e+09</td>\n",
       "      <td>2</td>\n",
       "      <td>PAINT AND ACCESSORIES</td>\n",
       "      <td>3565.0</td>\n",
       "    </tr>\n",
       "    <tr>\n",
       "      <td>4</td>\n",
       "      <td>26</td>\n",
       "      <td>8</td>\n",
       "      <td>Friday</td>\n",
       "      <td>2.006614e+09</td>\n",
       "      <td>2</td>\n",
       "      <td>PAINT AND ACCESSORIES</td>\n",
       "      <td>1017.0</td>\n",
       "    </tr>\n",
       "  </tbody>\n",
       "</table>\n",
       "</div>"
      ],
      "text/plain": [
       "   TripType  VisitNumber Weekday           Upc  ScanCount  \\\n",
       "0       999            5  Friday  6.811315e+10         -1   \n",
       "1        30            7  Friday  6.053882e+10          1   \n",
       "2        30            7  Friday  7.410811e+09          1   \n",
       "3        26            8  Friday  2.238404e+09          2   \n",
       "4        26            8  Friday  2.006614e+09          2   \n",
       "\n",
       "   DepartmentDescription  FinelineNumber  \n",
       "0     FINANCIAL SERVICES          1000.0  \n",
       "1                  SHOES          8931.0  \n",
       "2          PERSONAL CARE          4504.0  \n",
       "3  PAINT AND ACCESSORIES          3565.0  \n",
       "4  PAINT AND ACCESSORIES          1017.0  "
      ]
     },
     "execution_count": 8,
     "metadata": {},
     "output_type": "execute_result"
    }
   ],
   "source": [
    "train.head(5)"
   ]
  },
  {
   "cell_type": "code",
   "execution_count": null,
   "metadata": {},
   "outputs": [],
   "source": []
  },
  {
   "cell_type": "markdown",
   "metadata": {},
   "source": [
    "# 2. Build a simple baseline model\n",
    "\n",
    "- Count number of purchases in a Visit\n",
    "- Create binary column `is_weekend`\n",
    "- Drop all the remaining columns"
   ]
  },
  {
   "cell_type": "code",
   "execution_count": 9,
   "metadata": {},
   "outputs": [],
   "source": [
    "from sklearn.model_selection import train_test_split\n",
    "from sklearn.ensemble import RandomForestClassifier\n",
    "from sklearn.preprocessing import LabelEncoder"
   ]
  },
  {
   "cell_type": "code",
   "execution_count": 10,
   "metadata": {},
   "outputs": [],
   "source": [
    "def is_weekend(day):\n",
    "    return int(day in ['Saturday', 'Sunday'])\n",
    "\n",
    "df_train = train.copy()\n",
    "\n",
    "# Generate is_weekend\n",
    "df_train['is_weekend'] = df_train.Weekday.apply(is_weekend)\n",
    "\n",
    "# Generate n_products\n",
    "gp_n_products = df_train.groupby('VisitNumber')['ScanCount'].count()\n",
    "df_train['n_products'] = df_train.VisitNumber.map(gp_n_products)\n",
    "\n",
    "# drop duplicated Visit numbers\n",
    "df_train = df_train.drop_duplicates(subset=['VisitNumber']).reset_index(drop=True)\n",
    "\n",
    "# drop all columns except `is_weekend`, `n_products` and `TripType`\n",
    "df_train = df_train.drop(['VisitNumber', 'Weekday', 'Upc', 'ScanCount',\n",
    "                          'DepartmentDescription', 'FinelineNumber'], axis=1)\n",
    "\n",
    "# Encode TripType so unique values are from 0 to (m-1), where m is number of classes\n",
    "encoder = LabelEncoder().fit(df_train['TripType'])\n",
    "df_train['TripType_encoded'] =  encoder.transform(df_train['TripType'])\n",
    "df_train = df_train.drop('TripType', axis=1)\n",
    "\n",
    "# Create separate variables X and y\n",
    "X = df_train.drop('TripType_encoded', axis=1)\n",
    "y = df_train.TripType_encoded"
   ]
  },
  {
   "cell_type": "code",
   "execution_count": 11,
   "metadata": {},
   "outputs": [
    {
     "data": {
      "text/html": [
       "<div>\n",
       "<style scoped>\n",
       "    .dataframe tbody tr th:only-of-type {\n",
       "        vertical-align: middle;\n",
       "    }\n",
       "\n",
       "    .dataframe tbody tr th {\n",
       "        vertical-align: top;\n",
       "    }\n",
       "\n",
       "    .dataframe thead th {\n",
       "        text-align: right;\n",
       "    }\n",
       "</style>\n",
       "<table border=\"1\" class=\"dataframe\">\n",
       "  <thead>\n",
       "    <tr style=\"text-align: right;\">\n",
       "      <th></th>\n",
       "      <th>is_weekend</th>\n",
       "      <th>n_products</th>\n",
       "      <th>TripType_encoded</th>\n",
       "    </tr>\n",
       "  </thead>\n",
       "  <tbody>\n",
       "    <tr>\n",
       "      <td>0</td>\n",
       "      <td>0</td>\n",
       "      <td>1</td>\n",
       "      <td>37</td>\n",
       "    </tr>\n",
       "    <tr>\n",
       "      <td>1</td>\n",
       "      <td>0</td>\n",
       "      <td>2</td>\n",
       "      <td>22</td>\n",
       "    </tr>\n",
       "    <tr>\n",
       "      <td>2</td>\n",
       "      <td>0</td>\n",
       "      <td>23</td>\n",
       "      <td>18</td>\n",
       "    </tr>\n",
       "    <tr>\n",
       "      <td>3</td>\n",
       "      <td>0</td>\n",
       "      <td>3</td>\n",
       "      <td>5</td>\n",
       "    </tr>\n",
       "    <tr>\n",
       "      <td>4</td>\n",
       "      <td>0</td>\n",
       "      <td>3</td>\n",
       "      <td>5</td>\n",
       "    </tr>\n",
       "    <tr>\n",
       "      <td>...</td>\n",
       "      <td>...</td>\n",
       "      <td>...</td>\n",
       "      <td>...</td>\n",
       "    </tr>\n",
       "    <tr>\n",
       "      <td>95669</td>\n",
       "      <td>1</td>\n",
       "      <td>7</td>\n",
       "      <td>17</td>\n",
       "    </tr>\n",
       "    <tr>\n",
       "      <td>95670</td>\n",
       "      <td>1</td>\n",
       "      <td>5</td>\n",
       "      <td>14</td>\n",
       "    </tr>\n",
       "    <tr>\n",
       "      <td>95671</td>\n",
       "      <td>1</td>\n",
       "      <td>13</td>\n",
       "      <td>31</td>\n",
       "    </tr>\n",
       "    <tr>\n",
       "      <td>95672</td>\n",
       "      <td>1</td>\n",
       "      <td>17</td>\n",
       "      <td>31</td>\n",
       "    </tr>\n",
       "    <tr>\n",
       "      <td>95673</td>\n",
       "      <td>1</td>\n",
       "      <td>2</td>\n",
       "      <td>5</td>\n",
       "    </tr>\n",
       "  </tbody>\n",
       "</table>\n",
       "<p>95674 rows × 3 columns</p>\n",
       "</div>"
      ],
      "text/plain": [
       "       is_weekend  n_products  TripType_encoded\n",
       "0               0           1                37\n",
       "1               0           2                22\n",
       "2               0          23                18\n",
       "3               0           3                 5\n",
       "4               0           3                 5\n",
       "...           ...         ...               ...\n",
       "95669           1           7                17\n",
       "95670           1           5                14\n",
       "95671           1          13                31\n",
       "95672           1          17                31\n",
       "95673           1           2                 5\n",
       "\n",
       "[95674 rows x 3 columns]"
      ]
     },
     "execution_count": 11,
     "metadata": {},
     "output_type": "execute_result"
    }
   ],
   "source": [
    "df_train"
   ]
  },
  {
   "cell_type": "code",
   "execution_count": 12,
   "metadata": {},
   "outputs": [],
   "source": [
    "from sklearn.model_selection import train_test_split"
   ]
  },
  {
   "cell_type": "code",
   "execution_count": 13,
   "metadata": {},
   "outputs": [],
   "source": [
    "# Split data into train and test, use parameter `stratify=y`\n",
    "\n",
    "X_train, X_test, y_train, y_test = train_test_split(X, y, test_size=0.20, random_state=774, stratify=y)"
   ]
  },
  {
   "cell_type": "code",
   "execution_count": 14,
   "metadata": {},
   "outputs": [],
   "source": [
    "from sklearn.ensemble import RandomForestClassifier\n",
    "from sklearn.metrics import log_loss"
   ]
  },
  {
   "cell_type": "code",
   "execution_count": 15,
   "metadata": {},
   "outputs": [
    {
     "name": "stderr",
     "output_type": "stream",
     "text": [
      "/Users/dmitrii/opt/anaconda3/lib/python3.7/site-packages/sklearn/ensemble/forest.py:245: FutureWarning: The default value of n_estimators will change from 10 in version 0.20 to 100 in 0.22.\n",
      "  \"10 in version 0.20 to 100 in 0.22.\", FutureWarning)\n"
     ]
    },
    {
     "data": {
      "text/plain": [
       "RandomForestClassifier(bootstrap=True, class_weight=None, criterion='gini',\n",
       "                       max_depth=None, max_features='auto', max_leaf_nodes=None,\n",
       "                       min_impurity_decrease=0.0, min_impurity_split=None,\n",
       "                       min_samples_leaf=1, min_samples_split=2,\n",
       "                       min_weight_fraction_leaf=0.0, n_estimators=10,\n",
       "                       n_jobs=None, oob_score=False, random_state=None,\n",
       "                       verbose=0, warm_start=False)"
      ]
     },
     "execution_count": 15,
     "metadata": {},
     "output_type": "execute_result"
    }
   ],
   "source": [
    "# train a RandomForest model with default hyperparameters\n",
    "\n",
    "clf = RandomForestClassifier()\n",
    "clf.fit(X_train, y_train)"
   ]
  },
  {
   "cell_type": "markdown",
   "metadata": {},
   "source": [
    "---\n",
    "For this tash we are using a log loss $$- y \\log p - (1-y)\\log(1-p)$$\n",
    "in the following multi class form:\n",
    "\n",
    "$$\\frac{1}{N}\\sum_{i=1}^N \\log {\\left(\\frac{e^{a_{it_i}}}{\\sum_{j=0}^{M-1} e^{a_{ij}}}\\right)}$$\n",
    "\n",
    "$t \\in \\{0\\ldots M-1\\}$, $M$ is number of classes, $N$ is number of objects. Numerator is $a_{it_{i}}$ = \\[ unnormalized probability of an $i$'th object to be assigned to the right class $t_i$\\], thus:\n",
    "\n",
    "$$p_{it_i} = \\frac{e^{a_{it_i}}}{\\sum_{j=0}^{M-1} e^{a_{ij}}}$$\n",
    "\n",
    "see for example https://towardsdatascience.com/cross-entropy-for-classification-d98e7f974451"
   ]
  },
  {
   "cell_type": "code",
   "execution_count": 16,
   "metadata": {},
   "outputs": [
    {
     "data": {
      "text/plain": [
       "2.628267384546759"
      ]
     },
     "execution_count": 16,
     "metadata": {},
     "output_type": "execute_result"
    }
   ],
   "source": [
    "# predict y_test and compute multi-class log loss of your prediction\n",
    "\n",
    "y_pred = clf.predict_proba(X_test)\n",
    "log_loss(y_test, y_pred)"
   ]
  },
  {
   "cell_type": "code",
   "execution_count": 17,
   "metadata": {},
   "outputs": [
    {
     "data": {
      "text/plain": [
       "(19135, 38)"
      ]
     },
     "execution_count": 17,
     "metadata": {},
     "output_type": "execute_result"
    }
   ],
   "source": [
    "y_pred.shape"
   ]
  },
  {
   "cell_type": "code",
   "execution_count": 18,
   "metadata": {},
   "outputs": [],
   "source": [
    "from sklearn.metrics import accuracy_score"
   ]
  },
  {
   "cell_type": "code",
   "execution_count": 19,
   "metadata": {},
   "outputs": [
    {
     "data": {
      "text/plain": [
       "0.27640449438202247"
      ]
     },
     "execution_count": 19,
     "metadata": {},
     "output_type": "execute_result"
    }
   ],
   "source": [
    "# just to get an intuition on whether it is a good a bad prediction compute an accuracy of your model\n",
    "\n",
    "y_pred = clf.predict(X_test)\n",
    "accuracy_score(y_test, y_pred)"
   ]
  },
  {
   "cell_type": "code",
   "execution_count": 20,
   "metadata": {},
   "outputs": [
    {
     "data": {
      "text/plain": [
       "(array([ 5, 31, 32]), array([9480, 7923, 1732]))"
      ]
     },
     "execution_count": 20,
     "metadata": {},
     "output_type": "execute_result"
    }
   ],
   "source": [
    "# Remember this is a 38 class classification, count predicted classes\n",
    "\n",
    "np.unique(y_pred, return_counts=True)"
   ]
  },
  {
   "cell_type": "code",
   "execution_count": 21,
   "metadata": {},
   "outputs": [
    {
     "data": {
      "text/plain": [
       "5     9729\n",
       "31    7917\n",
       "6     7571\n",
       "37    6755\n",
       "32    4904\n",
       "4     4602\n",
       "2     3674\n",
       "17    2958\n",
       "0     2914\n",
       "28    2404\n",
       "30    2330\n",
       "29    2230\n",
       "16    2087\n",
       "27    1624\n",
       "24    1587\n",
       "34    1486\n",
       "25    1052\n",
       "3     1022\n",
       "36     950\n",
       "22     865\n",
       "9      782\n",
       "14     742\n",
       "35     698\n",
       "19     628\n",
       "26     575\n",
       "13     513\n",
       "12     510\n",
       "23     475\n",
       "33     466\n",
       "10     439\n",
       "18     403\n",
       "20     394\n",
       "21     347\n",
       "11     300\n",
       "1      277\n",
       "7      215\n",
       "15     111\n",
       "8        3\n",
       "Name: TripType_encoded, dtype: int64"
      ]
     },
     "execution_count": 21,
     "metadata": {},
     "output_type": "execute_result"
    }
   ],
   "source": [
    "# Check value counts of a TripType on a train set\n",
    "\n",
    "y_train.value_counts()"
   ]
  },
  {
   "cell_type": "markdown",
   "metadata": {},
   "source": [
    "## Compare with the constant prediction\n"
   ]
  },
  {
   "cell_type": "code",
   "execution_count": 22,
   "metadata": {},
   "outputs": [
    {
     "name": "stdout",
     "output_type": "stream",
     "text": [
      "0.1270969427750196\n",
      "30.149003507927553\n"
     ]
    }
   ],
   "source": [
    "# Compute a log loss and an accuracy of a constant prediction (predict most frequent TripType)\n",
    "\n",
    "y_dummy = [5]*19135\n",
    "print(accuracy_score(y_test, y_dummy))\n",
    "\n",
    "y_dummy_proba = np.zeros((19135, 38))\n",
    "y_dummy_proba[:, 5] = 1\n",
    "print(log_loss(y_test, y_dummy_proba))"
   ]
  },
  {
   "cell_type": "code",
   "execution_count": null,
   "metadata": {},
   "outputs": [],
   "source": []
  },
  {
   "cell_type": "markdown",
   "metadata": {},
   "source": [
    "## Conclusions on the baseline\n",
    "1. Even with this simple features and relatively stupid predictions we are better than a constant prediction.\n",
    "2. Classifier mostly predicts frequent classes.\n",
    "3. Some frequent classes are predicted and some are not. This may be due to the fact that predicted\n",
    "classes are better described by the generated features."
   ]
  },
  {
   "cell_type": "code",
   "execution_count": null,
   "metadata": {},
   "outputs": [],
   "source": []
  },
  {
   "cell_type": "markdown",
   "metadata": {},
   "source": [
    "# 3. Deeper look on the features.\n",
    "\n",
    "### Columns description\n",
    "\n",
    "- `TripType` - a categorical id representing the type of shopping trip the customer made. This is the ground truth that you are predicting. TripType_999 is an \"other\" category.\n",
    "- `VisitNumber` - an id corresponding to a single trip by a single customer\n",
    "- `Weekday` - the weekday of the trip\n",
    "- `Upc`- the UPC number of the product purchased\n",
    "- `ScanCount` - the number of the given item that was purchased. A negative value indicates a product return.\n",
    "- `DepartmentDescription` - a high-level description of the item's department\n",
    "- `FinelineNumber` - a more refined category for each of the products, created by Walmart\n"
   ]
  },
  {
   "cell_type": "code",
   "execution_count": 23,
   "metadata": {},
   "outputs": [
    {
     "data": {
      "text/html": [
       "<div>\n",
       "<style scoped>\n",
       "    .dataframe tbody tr th:only-of-type {\n",
       "        vertical-align: middle;\n",
       "    }\n",
       "\n",
       "    .dataframe tbody tr th {\n",
       "        vertical-align: top;\n",
       "    }\n",
       "\n",
       "    .dataframe thead th {\n",
       "        text-align: right;\n",
       "    }\n",
       "</style>\n",
       "<table border=\"1\" class=\"dataframe\">\n",
       "  <thead>\n",
       "    <tr style=\"text-align: right;\">\n",
       "      <th></th>\n",
       "      <th>TripType</th>\n",
       "      <th>VisitNumber</th>\n",
       "      <th>Weekday</th>\n",
       "      <th>Upc</th>\n",
       "      <th>ScanCount</th>\n",
       "      <th>DepartmentDescription</th>\n",
       "      <th>FinelineNumber</th>\n",
       "    </tr>\n",
       "  </thead>\n",
       "  <tbody>\n",
       "    <tr>\n",
       "      <td>0</td>\n",
       "      <td>999</td>\n",
       "      <td>5</td>\n",
       "      <td>Friday</td>\n",
       "      <td>6.811315e+10</td>\n",
       "      <td>-1</td>\n",
       "      <td>FINANCIAL SERVICES</td>\n",
       "      <td>1000.0</td>\n",
       "    </tr>\n",
       "    <tr>\n",
       "      <td>1</td>\n",
       "      <td>30</td>\n",
       "      <td>7</td>\n",
       "      <td>Friday</td>\n",
       "      <td>6.053882e+10</td>\n",
       "      <td>1</td>\n",
       "      <td>SHOES</td>\n",
       "      <td>8931.0</td>\n",
       "    </tr>\n",
       "    <tr>\n",
       "      <td>2</td>\n",
       "      <td>30</td>\n",
       "      <td>7</td>\n",
       "      <td>Friday</td>\n",
       "      <td>7.410811e+09</td>\n",
       "      <td>1</td>\n",
       "      <td>PERSONAL CARE</td>\n",
       "      <td>4504.0</td>\n",
       "    </tr>\n",
       "    <tr>\n",
       "      <td>3</td>\n",
       "      <td>26</td>\n",
       "      <td>8</td>\n",
       "      <td>Friday</td>\n",
       "      <td>2.238404e+09</td>\n",
       "      <td>2</td>\n",
       "      <td>PAINT AND ACCESSORIES</td>\n",
       "      <td>3565.0</td>\n",
       "    </tr>\n",
       "    <tr>\n",
       "      <td>4</td>\n",
       "      <td>26</td>\n",
       "      <td>8</td>\n",
       "      <td>Friday</td>\n",
       "      <td>2.006614e+09</td>\n",
       "      <td>2</td>\n",
       "      <td>PAINT AND ACCESSORIES</td>\n",
       "      <td>1017.0</td>\n",
       "    </tr>\n",
       "  </tbody>\n",
       "</table>\n",
       "</div>"
      ],
      "text/plain": [
       "   TripType  VisitNumber Weekday           Upc  ScanCount  \\\n",
       "0       999            5  Friday  6.811315e+10         -1   \n",
       "1        30            7  Friday  6.053882e+10          1   \n",
       "2        30            7  Friday  7.410811e+09          1   \n",
       "3        26            8  Friday  2.238404e+09          2   \n",
       "4        26            8  Friday  2.006614e+09          2   \n",
       "\n",
       "   DepartmentDescription  FinelineNumber  \n",
       "0     FINANCIAL SERVICES          1000.0  \n",
       "1                  SHOES          8931.0  \n",
       "2          PERSONAL CARE          4504.0  \n",
       "3  PAINT AND ACCESSORIES          3565.0  \n",
       "4  PAINT AND ACCESSORIES          1017.0  "
      ]
     },
     "execution_count": 23,
     "metadata": {},
     "output_type": "execute_result"
    }
   ],
   "source": [
    "train.head()"
   ]
  },
  {
   "cell_type": "code",
   "execution_count": 24,
   "metadata": {},
   "outputs": [
    {
     "data": {
      "text/plain": [
       "TripType                   int64\n",
       "VisitNumber                int64\n",
       "Weekday                   object\n",
       "Upc                      float64\n",
       "ScanCount                  int64\n",
       "DepartmentDescription     object\n",
       "FinelineNumber           float64\n",
       "dtype: object"
      ]
     },
     "execution_count": 24,
     "metadata": {},
     "output_type": "execute_result"
    }
   ],
   "source": [
    "train.dtypes"
   ]
  },
  {
   "cell_type": "markdown",
   "metadata": {},
   "source": [
    "All features, except `ScanCount` are categorical, a negative value of a `ScanCount` indicates a product return.\n",
    "\n",
    "### 3.1 VisitNumber \n",
    "is an indicator of a visit, we need it to aggregate different purchases,\n",
    "but the number itself is not important it is just an index. Let's have a quick look on it."
   ]
  },
  {
   "cell_type": "code",
   "execution_count": 25,
   "metadata": {
    "scrolled": true
   },
   "outputs": [
    {
     "data": {
      "text/plain": [
       "72439     209\n",
       "88011     151\n",
       "9181      113\n",
       "60971     112\n",
       "65792     111\n",
       "         ... \n",
       "67349       1\n",
       "117851      1\n",
       "148861      1\n",
       "23657       1\n",
       "2047        1\n",
       "Name: VisitNumber, Length: 95674, dtype: int64"
      ]
     },
     "execution_count": 25,
     "metadata": {},
     "output_type": "execute_result"
    }
   ],
   "source": [
    "# How many unique VisitNumber are in the data?\n",
    "\n",
    "train.VisitNumber.value_counts()"
   ]
  },
  {
   "cell_type": "code",
   "execution_count": null,
   "metadata": {},
   "outputs": [],
   "source": [
    "\n"
   ]
  },
  {
   "cell_type": "code",
   "execution_count": null,
   "metadata": {},
   "outputs": [],
   "source": [
    "\n",
    "\n"
   ]
  },
  {
   "cell_type": "code",
   "execution_count": 26,
   "metadata": {},
   "outputs": [
    {
     "data": {
      "text/plain": [
       "<matplotlib.axes._subplots.AxesSubplot at 0x7f90af122b50>"
      ]
     },
     "execution_count": 26,
     "metadata": {},
     "output_type": "execute_result"
    },
    {
     "data": {
      "image/png": "[encoded data removed]",
      "text/plain": [
       "<Figure size 432x288 with 1 Axes>"
      ]
     },
     "metadata": {
      "needs_background": "light"
     },
     "output_type": "display_data"
    }
   ],
   "source": [
    "# What is the typical size of a purchase (number of unique products in a Visit)?\n",
    "\n",
    "sns.histplot(data=train.VisitNumber.value_counts(), bins=50)\n"
   ]
  },
  {
   "cell_type": "code",
   "execution_count": 27,
   "metadata": {},
   "outputs": [
    {
     "data": {
      "text/plain": [
       "1     19563\n",
       "2     17255\n",
       "3     10362\n",
       "4      8038\n",
       "5      5884\n",
       "6      4633\n",
       "7      3716\n",
       "8      3154\n",
       "9      2593\n",
       "10     2251\n",
       "11     1889\n",
       "12     1746\n",
       "13     1519\n",
       "14     1253\n",
       "15     1207\n",
       "16     1030\n",
       "17      887\n",
       "18      772\n",
       "19      699\n",
       "20      674\n",
       "Name: VisitNumber, dtype: int64"
      ]
     },
     "execution_count": 27,
     "metadata": {},
     "output_type": "execute_result"
    }
   ],
   "source": [
    "\n",
    "\n",
    "train.VisitNumber.value_counts().value_counts().sort_index()[:20]"
   ]
  },
  {
   "cell_type": "markdown",
   "metadata": {},
   "source": [
    "--- \n",
    "\n",
    "- More than half of all Visit consists of 4 or less purchases\n",
    "- 90% of Visits consist of 17 or less purchases"
   ]
  },
  {
   "cell_type": "code",
   "execution_count": null,
   "metadata": {},
   "outputs": [],
   "source": []
  },
  {
   "cell_type": "markdown",
   "metadata": {},
   "source": [
    "### 3.2 Weekday"
   ]
  },
  {
   "cell_type": "code",
   "execution_count": 28,
   "metadata": {},
   "outputs": [
    {
     "data": {
      "text/plain": [
       "Monday        83130\n",
       "Tuesday       72529\n",
       "Wednesday     71115\n",
       "Thursday      67962\n",
       "Friday        96247\n",
       "Saturday     122096\n",
       "Sunday       133975\n",
       "Name: Weekday, dtype: int64"
      ]
     },
     "execution_count": 28,
     "metadata": {},
     "output_type": "execute_result"
    }
   ],
   "source": [
    "# How many visits are on different weekdays\n",
    "weekdays = ['Monday', 'Tuesday', 'Wednesday','Thursday','Friday', 'Saturday', 'Sunday']\n",
    "\n",
    "train.Weekday.value_counts().reindex(weekdays)"
   ]
  },
  {
   "cell_type": "code",
   "execution_count": 29,
   "metadata": {},
   "outputs": [
    {
     "data": {
      "text/plain": [
       "Weekday\n",
       "Monday       1926.0\n",
       "Tuesday      1878.0\n",
       "Wednesday    1871.0\n",
       "Thursday     1793.0\n",
       "Friday       2418.0\n",
       "Saturday     2763.0\n",
       "Sunday       2809.0\n",
       "Name: IsReturn, dtype: float64"
      ]
     },
     "execution_count": 29,
     "metadata": {},
     "output_type": "execute_result"
    }
   ],
   "source": [
    "# Do we have more returns on some weekdays?\n",
    "\n",
    "train['IsReturn'] = train['ScanCount'].apply(lambda x: x < 0)\n",
    "train.groupby(['Weekday'])['IsReturn'].sum().sort_values().reindex(weekdays)"
   ]
  },
  {
   "cell_type": "code",
   "execution_count": 30,
   "metadata": {},
   "outputs": [
    {
     "data": {
      "text/plain": [
       "-1     14394\n",
       "-2       814\n",
       "-3       143\n",
       "-4        76\n",
       "-5        16\n",
       "-6        10\n",
       "-9         2\n",
       "-10        1\n",
       "-12        1\n",
       "-7         1\n",
       "Name: ScanCount, dtype: int64"
      ]
     },
     "execution_count": 30,
     "metadata": {},
     "output_type": "execute_result"
    }
   ],
   "source": [
    "# Is there only `-1` returns?\n",
    "\n",
    "train[train.IsReturn].ScanCount.value_counts()"
   ]
  },
  {
   "cell_type": "markdown",
   "metadata": {},
   "source": [
    "### 3.3 DepartmentDescription"
   ]
  },
  {
   "cell_type": "code",
   "execution_count": 31,
   "metadata": {},
   "outputs": [
    {
     "data": {
      "text/plain": [
       "DepartmentDescription\n",
       "GROCERY DRY GOODS              88718\n",
       "DSD GROCERY                    79814\n",
       "PRODUCE                        52813\n",
       "DAIRY                          50550\n",
       "PERSONAL CARE                  44819\n",
       "IMPULSE MERCHANDISE            31811\n",
       "HOUSEHOLD CHEMICALS/SUPP       26915\n",
       "PHARMACY OTC                   25620\n",
       "FROZEN FOODS                   25368\n",
       "HOUSEHOLD PAPER GOODS          17986\n",
       "COMM BREAD                     17516\n",
       "BEAUTY                         15077\n",
       "INFANT CONSUMABLE HARDLINES    13149\n",
       "PETS AND SUPPLIES              12592\n",
       "CANDY, TOBACCO, COOKIES        11745\n",
       "MENS WEAR                      11690\n",
       "MEAT - FRESH & FROZEN          10882\n",
       "SERVICE DELI                   10777\n",
       "PRE PACKED DELI                10722\n",
       "CELEBRATION                     9957\n",
       "Name: ScanCount, dtype: int64"
      ]
     },
     "execution_count": 31,
     "metadata": {},
     "output_type": "execute_result"
    }
   ],
   "source": [
    "# What are the most popular Departments? (total sum over ScanCount)\n",
    "\n",
    "train.groupby('DepartmentDescription').ScanCount.sum().sort_values(ascending=False)[:20]"
   ]
  },
  {
   "cell_type": "code",
   "execution_count": 32,
   "metadata": {},
   "outputs": [
    {
     "data": {
      "text/html": [
       "<div>\n",
       "<style scoped>\n",
       "    .dataframe tbody tr th:only-of-type {\n",
       "        vertical-align: middle;\n",
       "    }\n",
       "\n",
       "    .dataframe tbody tr th {\n",
       "        vertical-align: top;\n",
       "    }\n",
       "\n",
       "    .dataframe thead th {\n",
       "        text-align: right;\n",
       "    }\n",
       "</style>\n",
       "<table border=\"1\" class=\"dataframe\">\n",
       "  <thead>\n",
       "    <tr style=\"text-align: right;\">\n",
       "      <th></th>\n",
       "      <th>TripType</th>\n",
       "      <th>Count</th>\n",
       "      <th>DepartmentDescription</th>\n",
       "    </tr>\n",
       "  </thead>\n",
       "  <tbody>\n",
       "    <tr>\n",
       "      <td>0</td>\n",
       "      <td>3</td>\n",
       "      <td>5369</td>\n",
       "      <td>FINANCIAL SERVICES</td>\n",
       "    </tr>\n",
       "    <tr>\n",
       "      <td>1</td>\n",
       "      <td>3</td>\n",
       "      <td>804</td>\n",
       "      <td>IMPULSE MERCHANDISE</td>\n",
       "    </tr>\n",
       "    <tr>\n",
       "      <td>2</td>\n",
       "      <td>3</td>\n",
       "      <td>76</td>\n",
       "      <td>LARGE HOUSEHOLD GOODS</td>\n",
       "    </tr>\n",
       "    <tr>\n",
       "      <td>3</td>\n",
       "      <td>4</td>\n",
       "      <td>563</td>\n",
       "      <td>PHARMACY OTC</td>\n",
       "    </tr>\n",
       "    <tr>\n",
       "      <td>4</td>\n",
       "      <td>4</td>\n",
       "      <td>73</td>\n",
       "      <td>DSD GROCERY</td>\n",
       "    </tr>\n",
       "    <tr>\n",
       "      <td>5</td>\n",
       "      <td>4</td>\n",
       "      <td>47</td>\n",
       "      <td>IMPULSE MERCHANDISE</td>\n",
       "    </tr>\n",
       "    <tr>\n",
       "      <td>6</td>\n",
       "      <td>5</td>\n",
       "      <td>5281</td>\n",
       "      <td>PHARMACY OTC</td>\n",
       "    </tr>\n",
       "    <tr>\n",
       "      <td>7</td>\n",
       "      <td>5</td>\n",
       "      <td>2714</td>\n",
       "      <td>PHARMACY RX</td>\n",
       "    </tr>\n",
       "    <tr>\n",
       "      <td>8</td>\n",
       "      <td>5</td>\n",
       "      <td>922</td>\n",
       "      <td>PERSONAL CARE</td>\n",
       "    </tr>\n",
       "    <tr>\n",
       "      <td>9</td>\n",
       "      <td>6</td>\n",
       "      <td>1000</td>\n",
       "      <td>LIQUOR,WINE,BEER</td>\n",
       "    </tr>\n",
       "    <tr>\n",
       "      <td>10</td>\n",
       "      <td>6</td>\n",
       "      <td>674</td>\n",
       "      <td>CANDY, TOBACCO, COOKIES</td>\n",
       "    </tr>\n",
       "    <tr>\n",
       "      <td>11</td>\n",
       "      <td>6</td>\n",
       "      <td>360</td>\n",
       "      <td>DSD GROCERY</td>\n",
       "    </tr>\n",
       "    <tr>\n",
       "      <td>12</td>\n",
       "      <td>7</td>\n",
       "      <td>3669</td>\n",
       "      <td>SERVICE DELI</td>\n",
       "    </tr>\n",
       "    <tr>\n",
       "      <td>13</td>\n",
       "      <td>7</td>\n",
       "      <td>3354</td>\n",
       "      <td>GROCERY DRY GOODS</td>\n",
       "    </tr>\n",
       "    <tr>\n",
       "      <td>14</td>\n",
       "      <td>7</td>\n",
       "      <td>3022</td>\n",
       "      <td>PRODUCE</td>\n",
       "    </tr>\n",
       "  </tbody>\n",
       "</table>\n",
       "</div>"
      ],
      "text/plain": [
       "    TripType  Count    DepartmentDescription\n",
       "0          3   5369       FINANCIAL SERVICES\n",
       "1          3    804      IMPULSE MERCHANDISE\n",
       "2          3     76    LARGE HOUSEHOLD GOODS\n",
       "3          4    563             PHARMACY OTC\n",
       "4          4     73              DSD GROCERY\n",
       "5          4     47      IMPULSE MERCHANDISE\n",
       "6          5   5281             PHARMACY OTC\n",
       "7          5   2714              PHARMACY RX\n",
       "8          5    922            PERSONAL CARE\n",
       "9          6   1000         LIQUOR,WINE,BEER\n",
       "10         6    674  CANDY, TOBACCO, COOKIES\n",
       "11         6    360              DSD GROCERY\n",
       "12         7   3669             SERVICE DELI\n",
       "13         7   3354        GROCERY DRY GOODS\n",
       "14         7   3022                  PRODUCE"
      ]
     },
     "execution_count": 32,
     "metadata": {},
     "output_type": "execute_result"
    }
   ],
   "source": [
    "# Does most popular DepartmentDescription differ for different TripTypes?\n",
    "# > Allows to more or less deanonymize `TripType`.\n",
    "\n",
    "gp = train.groupby('TripType')['DepartmentDescription'].value_counts().reset_index(name='Count')\n",
    "gp2 = gp.groupby(['TripType'])[['Count','DepartmentDescription']]\\\n",
    "                                                           .apply(pd.DataFrame.nlargest, n=3, columns=['Count'])\\\n",
    "                                                           .reset_index()\\\n",
    "                                                           .drop('level_1', axis=1)\n",
    "\n",
    "gp2[:15]"
   ]
  },
  {
   "cell_type": "code",
   "execution_count": 33,
   "metadata": {},
   "outputs": [
    {
     "data": {
      "text/html": [
       "<div>\n",
       "<style scoped>\n",
       "    .dataframe tbody tr th:only-of-type {\n",
       "        vertical-align: middle;\n",
       "    }\n",
       "\n",
       "    .dataframe tbody tr th {\n",
       "        vertical-align: top;\n",
       "    }\n",
       "\n",
       "    .dataframe thead th {\n",
       "        text-align: right;\n",
       "    }\n",
       "</style>\n",
       "<table border=\"1\" class=\"dataframe\">\n",
       "  <thead>\n",
       "    <tr style=\"text-align: right;\">\n",
       "      <th></th>\n",
       "      <th>TripType</th>\n",
       "      <th>Count</th>\n",
       "      <th>DepartmentDescription</th>\n",
       "    </tr>\n",
       "  </thead>\n",
       "  <tbody>\n",
       "    <tr>\n",
       "      <td>51</td>\n",
       "      <td>25</td>\n",
       "      <td>5381</td>\n",
       "      <td>MENS WEAR</td>\n",
       "    </tr>\n",
       "    <tr>\n",
       "      <td>52</td>\n",
       "      <td>25</td>\n",
       "      <td>3716</td>\n",
       "      <td>LADIESWEAR</td>\n",
       "    </tr>\n",
       "    <tr>\n",
       "      <td>53</td>\n",
       "      <td>25</td>\n",
       "      <td>1836</td>\n",
       "      <td>GIRLS WEAR, 4-6X  AND 7-14</td>\n",
       "    </tr>\n",
       "    <tr>\n",
       "      <td>87</td>\n",
       "      <td>37</td>\n",
       "      <td>13351</td>\n",
       "      <td>PRODUCE</td>\n",
       "    </tr>\n",
       "    <tr>\n",
       "      <td>88</td>\n",
       "      <td>37</td>\n",
       "      <td>5477</td>\n",
       "      <td>GROCERY DRY GOODS</td>\n",
       "    </tr>\n",
       "    <tr>\n",
       "      <td>89</td>\n",
       "      <td>37</td>\n",
       "      <td>3667</td>\n",
       "      <td>DAIRY</td>\n",
       "    </tr>\n",
       "    <tr>\n",
       "      <td>90</td>\n",
       "      <td>38</td>\n",
       "      <td>7252</td>\n",
       "      <td>DAIRY</td>\n",
       "    </tr>\n",
       "    <tr>\n",
       "      <td>91</td>\n",
       "      <td>38</td>\n",
       "      <td>6417</td>\n",
       "      <td>GROCERY DRY GOODS</td>\n",
       "    </tr>\n",
       "    <tr>\n",
       "      <td>92</td>\n",
       "      <td>38</td>\n",
       "      <td>4020</td>\n",
       "      <td>DSD GROCERY</td>\n",
       "    </tr>\n",
       "    <tr>\n",
       "      <td>93</td>\n",
       "      <td>39</td>\n",
       "      <td>12956</td>\n",
       "      <td>DSD GROCERY</td>\n",
       "    </tr>\n",
       "    <tr>\n",
       "      <td>94</td>\n",
       "      <td>39</td>\n",
       "      <td>12602</td>\n",
       "      <td>GROCERY DRY GOODS</td>\n",
       "    </tr>\n",
       "    <tr>\n",
       "      <td>95</td>\n",
       "      <td>39</td>\n",
       "      <td>8126</td>\n",
       "      <td>PERSONAL CARE</td>\n",
       "    </tr>\n",
       "    <tr>\n",
       "      <td>96</td>\n",
       "      <td>40</td>\n",
       "      <td>32639</td>\n",
       "      <td>GROCERY DRY GOODS</td>\n",
       "    </tr>\n",
       "    <tr>\n",
       "      <td>97</td>\n",
       "      <td>40</td>\n",
       "      <td>22157</td>\n",
       "      <td>DSD GROCERY</td>\n",
       "    </tr>\n",
       "    <tr>\n",
       "      <td>98</td>\n",
       "      <td>40</td>\n",
       "      <td>17354</td>\n",
       "      <td>DAIRY</td>\n",
       "    </tr>\n",
       "  </tbody>\n",
       "</table>\n",
       "</div>"
      ],
      "text/plain": [
       "    TripType  Count       DepartmentDescription\n",
       "51        25   5381                   MENS WEAR\n",
       "52        25   3716                  LADIESWEAR\n",
       "53        25   1836  GIRLS WEAR, 4-6X  AND 7-14\n",
       "87        37  13351                     PRODUCE\n",
       "88        37   5477           GROCERY DRY GOODS\n",
       "89        37   3667                       DAIRY\n",
       "90        38   7252                       DAIRY\n",
       "91        38   6417           GROCERY DRY GOODS\n",
       "92        38   4020                 DSD GROCERY\n",
       "93        39  12956                 DSD GROCERY\n",
       "94        39  12602           GROCERY DRY GOODS\n",
       "95        39   8126               PERSONAL CARE\n",
       "96        40  32639           GROCERY DRY GOODS\n",
       "97        40  22157                 DSD GROCERY\n",
       "98        40  17354                       DAIRY"
      ]
     },
     "execution_count": 33,
     "metadata": {},
     "output_type": "execute_result"
    }
   ],
   "source": [
    "# From our baseline, recall most popular TripTypes, let's deanonymize them.\n",
    "# Select subset of the previous table with TripType in [40, 39, 37, 38, 25]\n",
    "\n",
    "gp2[gp2.TripType.isin([40, 39, 37, 38, 25])]"
   ]
  },
  {
   "cell_type": "code",
   "execution_count": 34,
   "metadata": {},
   "outputs": [
    {
     "data": {
      "text/plain": [
       "DepartmentDescription\n",
       "FINANCIAL SERVICES          1162.0\n",
       "LADIESWEAR                   800.0\n",
       "PRODUCE                      733.0\n",
       "PERSONAL CARE                682.0\n",
       "DSD GROCERY                  679.0\n",
       "MENS WEAR                    634.0\n",
       "GROCERY DRY GOODS            606.0\n",
       "PHARMACY OTC                 472.0\n",
       "IMPULSE MERCHANDISE          453.0\n",
       "BEAUTY                       452.0\n",
       "ELECTRONICS                  450.0\n",
       "HOUSEHOLD CHEMICALS/SUPP     392.0\n",
       "COOK AND DINE                382.0\n",
       "TOYS                         356.0\n",
       "DAIRY                        343.0\n",
       "Name: IsReturn, dtype: float64"
      ]
     },
     "execution_count": 34,
     "metadata": {},
     "output_type": "execute_result"
    }
   ],
   "source": [
    "# What are the DepartmentDescription with most returns?\n",
    "\n",
    "train.groupby('DepartmentDescription')['IsReturn'].sum().sort_values(ascending=False)[:15]"
   ]
  },
  {
   "cell_type": "code",
   "execution_count": null,
   "metadata": {},
   "outputs": [],
   "source": []
  },
  {
   "cell_type": "markdown",
   "metadata": {},
   "source": [
    "### 3.4 FinelineNumber\n",
    "\n",
    "> according to the data description `FinelineNumber` is just a more detailed `DepartmentDescription`"
   ]
  },
  {
   "cell_type": "code",
   "execution_count": 35,
   "metadata": {},
   "outputs": [
    {
     "data": {
      "text/html": [
       "<div>\n",
       "<style scoped>\n",
       "    .dataframe tbody tr th:only-of-type {\n",
       "        vertical-align: middle;\n",
       "    }\n",
       "\n",
       "    .dataframe tbody tr th {\n",
       "        vertical-align: top;\n",
       "    }\n",
       "\n",
       "    .dataframe thead th {\n",
       "        text-align: right;\n",
       "    }\n",
       "</style>\n",
       "<table border=\"1\" class=\"dataframe\">\n",
       "  <thead>\n",
       "    <tr style=\"text-align: right;\">\n",
       "      <th>DepartmentDescription</th>\n",
       "      <th>DAIRY</th>\n",
       "      <th>DSD GROCERY</th>\n",
       "      <th>GROCERY DRY GOODS</th>\n",
       "      <th>HOUSEHOLD CHEMICALS/SUPP</th>\n",
       "      <th>HOUSEHOLD PAPER GOODS</th>\n",
       "      <th>IMPULSE MERCHANDISE</th>\n",
       "      <th>PERSONAL CARE</th>\n",
       "      <th>PHARMACY OTC</th>\n",
       "      <th>PRODUCE</th>\n",
       "    </tr>\n",
       "    <tr>\n",
       "      <th>FinelineNumber</th>\n",
       "      <th></th>\n",
       "      <th></th>\n",
       "      <th></th>\n",
       "      <th></th>\n",
       "      <th></th>\n",
       "      <th></th>\n",
       "      <th></th>\n",
       "      <th></th>\n",
       "      <th></th>\n",
       "    </tr>\n",
       "  </thead>\n",
       "  <tbody>\n",
       "    <tr>\n",
       "      <td>100.0</td>\n",
       "      <td>0</td>\n",
       "      <td>0</td>\n",
       "      <td>95</td>\n",
       "      <td>0</td>\n",
       "      <td>0</td>\n",
       "      <td>2354</td>\n",
       "      <td>0</td>\n",
       "      <td>0</td>\n",
       "      <td>69</td>\n",
       "    </tr>\n",
       "    <tr>\n",
       "      <td>110.0</td>\n",
       "      <td>0</td>\n",
       "      <td>0</td>\n",
       "      <td>0</td>\n",
       "      <td>536</td>\n",
       "      <td>770</td>\n",
       "      <td>773</td>\n",
       "      <td>0</td>\n",
       "      <td>0</td>\n",
       "      <td>0</td>\n",
       "    </tr>\n",
       "    <tr>\n",
       "      <td>115.0</td>\n",
       "      <td>0</td>\n",
       "      <td>0</td>\n",
       "      <td>0</td>\n",
       "      <td>10</td>\n",
       "      <td>0</td>\n",
       "      <td>2576</td>\n",
       "      <td>0</td>\n",
       "      <td>0</td>\n",
       "      <td>0</td>\n",
       "    </tr>\n",
       "    <tr>\n",
       "      <td>135.0</td>\n",
       "      <td>0</td>\n",
       "      <td>0</td>\n",
       "      <td>0</td>\n",
       "      <td>0</td>\n",
       "      <td>0</td>\n",
       "      <td>4417</td>\n",
       "      <td>26</td>\n",
       "      <td>0</td>\n",
       "      <td>0</td>\n",
       "    </tr>\n",
       "    <tr>\n",
       "      <td>203.0</td>\n",
       "      <td>0</td>\n",
       "      <td>0</td>\n",
       "      <td>0</td>\n",
       "      <td>0</td>\n",
       "      <td>69</td>\n",
       "      <td>0</td>\n",
       "      <td>2353</td>\n",
       "      <td>0</td>\n",
       "      <td>0</td>\n",
       "    </tr>\n",
       "    <tr>\n",
       "      <td>808.0</td>\n",
       "      <td>0</td>\n",
       "      <td>0</td>\n",
       "      <td>0</td>\n",
       "      <td>0</td>\n",
       "      <td>0</td>\n",
       "      <td>4200</td>\n",
       "      <td>140</td>\n",
       "      <td>0</td>\n",
       "      <td>0</td>\n",
       "    </tr>\n",
       "    <tr>\n",
       "      <td>1407.0</td>\n",
       "      <td>2659</td>\n",
       "      <td>0</td>\n",
       "      <td>0</td>\n",
       "      <td>0</td>\n",
       "      <td>0</td>\n",
       "      <td>0</td>\n",
       "      <td>177</td>\n",
       "      <td>0</td>\n",
       "      <td>0</td>\n",
       "    </tr>\n",
       "    <tr>\n",
       "      <td>1508.0</td>\n",
       "      <td>4961</td>\n",
       "      <td>0</td>\n",
       "      <td>0</td>\n",
       "      <td>0</td>\n",
       "      <td>0</td>\n",
       "      <td>0</td>\n",
       "      <td>0</td>\n",
       "      <td>0</td>\n",
       "      <td>0</td>\n",
       "    </tr>\n",
       "    <tr>\n",
       "      <td>3004.0</td>\n",
       "      <td>0</td>\n",
       "      <td>1074</td>\n",
       "      <td>109</td>\n",
       "      <td>0</td>\n",
       "      <td>587</td>\n",
       "      <td>0</td>\n",
       "      <td>0</td>\n",
       "      <td>0</td>\n",
       "      <td>486</td>\n",
       "    </tr>\n",
       "    <tr>\n",
       "      <td>3555.0</td>\n",
       "      <td>0</td>\n",
       "      <td>0</td>\n",
       "      <td>2056</td>\n",
       "      <td>0</td>\n",
       "      <td>0</td>\n",
       "      <td>0</td>\n",
       "      <td>0</td>\n",
       "      <td>0</td>\n",
       "      <td>0</td>\n",
       "    </tr>\n",
       "    <tr>\n",
       "      <td>3600.0</td>\n",
       "      <td>0</td>\n",
       "      <td>0</td>\n",
       "      <td>2455</td>\n",
       "      <td>0</td>\n",
       "      <td>0</td>\n",
       "      <td>0</td>\n",
       "      <td>0</td>\n",
       "      <td>0</td>\n",
       "      <td>0</td>\n",
       "    </tr>\n",
       "    <tr>\n",
       "      <td>3601.0</td>\n",
       "      <td>0</td>\n",
       "      <td>37</td>\n",
       "      <td>261</td>\n",
       "      <td>0</td>\n",
       "      <td>0</td>\n",
       "      <td>0</td>\n",
       "      <td>0</td>\n",
       "      <td>0</td>\n",
       "      <td>2034</td>\n",
       "    </tr>\n",
       "    <tr>\n",
       "      <td>4606.0</td>\n",
       "      <td>0</td>\n",
       "      <td>2721</td>\n",
       "      <td>0</td>\n",
       "      <td>0</td>\n",
       "      <td>0</td>\n",
       "      <td>0</td>\n",
       "      <td>0</td>\n",
       "      <td>0</td>\n",
       "      <td>2</td>\n",
       "    </tr>\n",
       "    <tr>\n",
       "      <td>5501.0</td>\n",
       "      <td>0</td>\n",
       "      <td>0</td>\n",
       "      <td>0</td>\n",
       "      <td>0</td>\n",
       "      <td>0</td>\n",
       "      <td>0</td>\n",
       "      <td>0</td>\n",
       "      <td>2</td>\n",
       "      <td>7799</td>\n",
       "    </tr>\n",
       "    <tr>\n",
       "      <td>9546.0</td>\n",
       "      <td>0</td>\n",
       "      <td>2997</td>\n",
       "      <td>0</td>\n",
       "      <td>0</td>\n",
       "      <td>0</td>\n",
       "      <td>0</td>\n",
       "      <td>0</td>\n",
       "      <td>0</td>\n",
       "      <td>0</td>\n",
       "    </tr>\n",
       "  </tbody>\n",
       "</table>\n",
       "</div>"
      ],
      "text/plain": [
       "DepartmentDescription  DAIRY  DSD GROCERY  GROCERY DRY GOODS  \\\n",
       "FinelineNumber                                                 \n",
       "100.0                      0            0                 95   \n",
       "110.0                      0            0                  0   \n",
       "115.0                      0            0                  0   \n",
       "135.0                      0            0                  0   \n",
       "203.0                      0            0                  0   \n",
       "808.0                      0            0                  0   \n",
       "1407.0                  2659            0                  0   \n",
       "1508.0                  4961            0                  0   \n",
       "3004.0                     0         1074                109   \n",
       "3555.0                     0            0               2056   \n",
       "3600.0                     0            0               2455   \n",
       "3601.0                     0           37                261   \n",
       "4606.0                     0         2721                  0   \n",
       "5501.0                     0            0                  0   \n",
       "9546.0                     0         2997                  0   \n",
       "\n",
       "DepartmentDescription  HOUSEHOLD CHEMICALS/SUPP  HOUSEHOLD PAPER GOODS  \\\n",
       "FinelineNumber                                                           \n",
       "100.0                                         0                      0   \n",
       "110.0                                       536                    770   \n",
       "115.0                                        10                      0   \n",
       "135.0                                         0                      0   \n",
       "203.0                                         0                     69   \n",
       "808.0                                         0                      0   \n",
       "1407.0                                        0                      0   \n",
       "1508.0                                        0                      0   \n",
       "3004.0                                        0                    587   \n",
       "3555.0                                        0                      0   \n",
       "3600.0                                        0                      0   \n",
       "3601.0                                        0                      0   \n",
       "4606.0                                        0                      0   \n",
       "5501.0                                        0                      0   \n",
       "9546.0                                        0                      0   \n",
       "\n",
       "DepartmentDescription  IMPULSE MERCHANDISE  PERSONAL CARE  PHARMACY OTC  \\\n",
       "FinelineNumber                                                            \n",
       "100.0                                 2354              0             0   \n",
       "110.0                                  773              0             0   \n",
       "115.0                                 2576              0             0   \n",
       "135.0                                 4417             26             0   \n",
       "203.0                                    0           2353             0   \n",
       "808.0                                 4200            140             0   \n",
       "1407.0                                   0            177             0   \n",
       "1508.0                                   0              0             0   \n",
       "3004.0                                   0              0             0   \n",
       "3555.0                                   0              0             0   \n",
       "3600.0                                   0              0             0   \n",
       "3601.0                                   0              0             0   \n",
       "4606.0                                   0              0             0   \n",
       "5501.0                                   0              0             2   \n",
       "9546.0                                   0              0             0   \n",
       "\n",
       "DepartmentDescription  PRODUCE  \n",
       "FinelineNumber                  \n",
       "100.0                       69  \n",
       "110.0                        0  \n",
       "115.0                        0  \n",
       "135.0                        0  \n",
       "203.0                        0  \n",
       "808.0                        0  \n",
       "1407.0                       0  \n",
       "1508.0                       0  \n",
       "3004.0                     486  \n",
       "3555.0                       0  \n",
       "3600.0                       0  \n",
       "3601.0                    2034  \n",
       "4606.0                       2  \n",
       "5501.0                    7799  \n",
       "9546.0                       0  "
      ]
     },
     "execution_count": 35,
     "metadata": {},
     "output_type": "execute_result"
    }
   ],
   "source": [
    "# Build a crosstab between DepartmentDescription and FinelineNumber,\n",
    "# for most popular DepartmentDescription (total ScanCount > 20_000)\n",
    "# and most popular FinelineNumber (total ScanCount > 2000)\n",
    "\n",
    "\n",
    "popular_dd = train.groupby('DepartmentDescription').ScanCount.sum().sort_values(ascending=False)[:10].index\n",
    "sub = train[train.DepartmentDescription.isin(popular_dd)]\n",
    "sub = sub[sub.FinelineNumber.isin(sub.FinelineNumber.value_counts().iloc[:15].index)]\n",
    "\n",
    "tab = pd.crosstab(sub.FinelineNumber, sub.DepartmentDescription)\n",
    "tab"
   ]
  },
  {
   "cell_type": "code",
   "execution_count": null,
   "metadata": {},
   "outputs": [],
   "source": []
  },
  {
   "cell_type": "markdown",
   "metadata": {},
   "source": [
    "### 3.5 Upc"
   ]
  },
  {
   "cell_type": "code",
   "execution_count": 36,
   "metadata": {},
   "outputs": [
    {
     "data": {
      "text/plain": [
       "4.011000e+03    7657\n",
       "6.053886e+10    2501\n",
       "7.874235e+09    2067\n",
       "7.874235e+09    1883\n",
       "4.046000e+03    1652\n",
       "                ... \n",
       "8.437471e+10       1\n",
       "7.644011e+09       1\n",
       "1.119231e+09       1\n",
       "7.670528e+10       1\n",
       "8.669413e+09       1\n",
       "Name: Upc, Length: 97714, dtype: int64"
      ]
     },
     "execution_count": 36,
     "metadata": {},
     "output_type": "execute_result"
    }
   ],
   "source": [
    "train.Upc.value_counts()"
   ]
  },
  {
   "cell_type": "code",
   "execution_count": null,
   "metadata": {},
   "outputs": [],
   "source": []
  },
  {
   "cell_type": "markdown",
   "metadata": {},
   "source": [
    "## Conclusions on EDA\n",
    "\n",
    " - Visits are mostly consist of small number of products\n",
    " - Large visits are on weekends\n",
    " - `TripType` depends on `DepartmentDescription` and `FinelineNumber`\n",
    " - `Upc` is something like a bar code, could be usefull but contains almost 100k unique values\n",
    " "
   ]
  },
  {
   "cell_type": "markdown",
   "metadata": {},
   "source": [
    "# 4. Generate features"
   ]
  },
  {
   "cell_type": "code",
   "execution_count": 44,
   "metadata": {},
   "outputs": [],
   "source": [
    "train = pd.read_csv('walmart-recruiting-trip-type-classification/train.csv')\n",
    "test = pd.read_csv('walmart-recruiting-trip-type-classification/test.csv')"
   ]
  },
  {
   "cell_type": "code",
   "execution_count": 45,
   "metadata": {},
   "outputs": [],
   "source": [
    "def return_nth(x, n=0):\n",
    "    try:\n",
    "        return x[n]\n",
    "    except:\n",
    "        return np.nan\n",
    "    \n",
    "def return_nth_val(x, n=0):\n",
    "    try:\n",
    "        return x[n]\n",
    "    except:\n",
    "        return 0\n",
    "    \n",
    "def is_weekend(x):\n",
    "    return int(x in ['Sunday', 'Saturday'])\n",
    "\n",
    "def has_return(x):\n",
    "    return int(any(_x < 0 for _x in x))\n",
    "\n",
    "def sum_return(x):\n",
    "    return np.sum([_x for _x in x if _x < 0])"
   ]
  },
  {
   "cell_type": "code",
   "execution_count": 46,
   "metadata": {},
   "outputs": [],
   "source": [
    "def generate_features(df):\n",
    "    \n",
    "    df = df.copy()\n",
    "    \n",
    "    # 1. Most frequent DepartmentDescription in the purchase, second most frequent, third, fourth.\n",
    "\n",
    "    f = lambda grp: grp.value_counts().nlargest(10)\n",
    "    x = df.groupby('VisitNumber')['DepartmentDescription'].apply(f).reset_index()\n",
    "    gp = x.groupby('VisitNumber')['level_1'].unique()\n",
    "\n",
    "    df['PopularCategory'] = df.VisitNumber.map(gp)\n",
    "    for i in range(4):\n",
    "        df[f'Category_{i}'] = df['PopularCategory'].apply(return_nth, args=[i])\n",
    "\n",
    "    # 2. Same for FinelineNumber, but 6\n",
    "\n",
    "    x = df.groupby('VisitNumber')['FinelineNumber'].apply(f).reset_index()\n",
    "    gp = x.groupby('VisitNumber')['level_1'].unique()\n",
    "\n",
    "    df['PopularFineline'] = df.VisitNumber.map(gp)\n",
    "    for i in range(6):\n",
    "        df[f'Fineline_{i}'] = df['PopularFineline'].apply(return_nth, args=[i]).astype(object)\n",
    "\n",
    "    # 3. Count number of unique DepartmentDescription in the purchase\n",
    "\n",
    "    gp = df.groupby('VisitNumber')['DepartmentDescription'].nunique()\n",
    "    df['#Unique_Department'] = df.VisitNumber.map(gp)\n",
    "\n",
    "    # 4. Count number of unique FinelineNumber in the purchase.\n",
    "\n",
    "    gp = df.groupby('VisitNumber')['FinelineNumber'].nunique()\n",
    "    df['#Unique_Fineline'] = df.VisitNumber.map(gp)\n",
    "\n",
    "    # 5. Count ScanCount (number of unique Upc in the purchase)\n",
    "\n",
    "    gp = df.groupby('VisitNumber')['ScanCount'].count()\n",
    "    df['#UniqueScanCount'] = df['VisitNumber'].map(gp)   \n",
    "\n",
    "    # 6. Sum ScanCount\n",
    "\n",
    "    gp = df.groupby('VisitNumber')['ScanCount'].sum()\n",
    "    df['TotalScanCount'] = df['VisitNumber'].map(gp)\n",
    "\n",
    "    # 7. Is weekend\n",
    "\n",
    "    df['is_Weekend'] = df['Weekday'].apply(is_weekend).astype(object)\n",
    "\n",
    "    # 8. Sum returns\n",
    "\n",
    "    gp = df.groupby('VisitNumber')['ScanCount'].apply(sum_return)\n",
    "    df['total_return'] = df.VisitNumber.map(gp)\n",
    "    df['total_return'].fillna(0, inplace=True)\n",
    "\n",
    "    # Drop old and intermediate features\n",
    "\n",
    "    df = df.drop(['Upc', 'ScanCount', 'DepartmentDescription',\n",
    "                  'FinelineNumber', 'PopularFineline', 'PopularCategory'], axis=1)\n",
    "\n",
    "    # Drop duplicated rows (with the same VisitNumber)\n",
    "\n",
    "    df = df.drop_duplicates(keep='first')\n",
    "    \n",
    "    return df"
   ]
  },
  {
   "cell_type": "code",
   "execution_count": 48,
   "metadata": {},
   "outputs": [],
   "source": [
    " train = generate_features(train)\n",
    " train.to_csv('gb_generated_features_train.csv', index=False)\n",
    "# takes a lot of time to train\n",
    "train = pd.read_csv('gb_generated_features_train.csv')"
   ]
  },
  {
   "cell_type": "code",
   "execution_count": null,
   "metadata": {},
   "outputs": [],
   "source": [
    "# test = generate_features(test)\n",
    "# test.to_csv('gb_generated_features_test.csv', index=False)\n",
    "\n",
    "test = pd.read_csv('gb_generated_features_test.csv')"
   ]
  },
  {
   "cell_type": "markdown",
   "metadata": {},
   "source": [
    "# 5. Train a model\n",
    "\n",
    "We will use CatBoost implementation of a GradientBoosting algorithm https://catboost.ai, since our data have many\n",
    "categorical features and catboost implements automatical categorical features handling.\n",
    "\n",
    "https://catboost.ai/docs/concepts/python-usages-examples.html\n"
   ]
  },
  {
   "cell_type": "markdown",
   "metadata": {},
   "source": [
    "### Preparations"
   ]
  },
  {
   "cell_type": "code",
   "execution_count": null,
   "metadata": {},
   "outputs": [],
   "source": [
    "from catboost import CatBoostClassifier, Pool"
   ]
  },
  {
   "cell_type": "code",
   "execution_count": null,
   "metadata": {},
   "outputs": [],
   "source": [
    "# Print column names, thier index and datatype\n",
    "\n",
    "for i, col in enumerate(train.columns):\n",
    "    print(i-2, col, train[col].dtype)"
   ]
  },
  {
   "cell_type": "code",
   "execution_count": null,
   "metadata": {},
   "outputs": [],
   "source": [
    "# Catboost requiers all categorical features to be `str` or `int`, and all missing values to be `str`.\n",
    "\n",
    "for col in train.columns:\n",
    "    if col.startswith('Category'):\n",
    "        train[col]=train[col].apply(str)\n",
    "    if col.startswith('Fineline'):\n",
    "        train[col]=train[col].apply(str)\n",
    "        \n",
    "train.fillna('NaN', inplace=True)"
   ]
  },
  {
   "cell_type": "code",
   "execution_count": null,
   "metadata": {},
   "outputs": [],
   "source": [
    "# Split data into train and test\n",
    "\n",
    "x_train, x_eval = train_test_split(train, test_size=0.1, random_state=10, shuffle=True)"
   ]
  },
  {
   "cell_type": "code",
   "execution_count": 41,
   "metadata": {},
   "outputs": [],
   "source": [
    "# We could provide catboost indexes of all categorical features\n",
    "\n",
    "cat_features = [*list(range(10)), 15]\n"
   ]
  },
  {
   "cell_type": "code",
   "execution_count": 42,
   "metadata": {},
   "outputs": [
    {
     "ename": "NameError",
     "evalue": "name 'Pool' is not defined",
     "output_type": "error",
     "traceback": [
      "\u001b[0;31m---------------------------------------------------------------------------\u001b[0m",
      "\u001b[0;31mNameError\u001b[0m                                 Traceback (most recent call last)",
      "\u001b[0;32m<ipython-input-42-2ecda62cf45e>\u001b[0m in \u001b[0;36m<module>\u001b[0;34m\u001b[0m\n\u001b[1;32m      1\u001b[0m \u001b[0;31m# Create Pool objects (catboost internal data structure)\u001b[0m\u001b[0;34m\u001b[0m\u001b[0;34m\u001b[0m\u001b[0;34m\u001b[0m\u001b[0m\n\u001b[1;32m      2\u001b[0m \u001b[0;34m\u001b[0m\u001b[0m\n\u001b[0;32m----> 3\u001b[0;31m data_train = Pool(x_train.drop(['TripType', 'VisitNumber'], axis=1), \n\u001b[0m\u001b[1;32m      4\u001b[0m                   \u001b[0mlabel\u001b[0m\u001b[0;34m=\u001b[0m\u001b[0mx_train\u001b[0m\u001b[0;34m.\u001b[0m\u001b[0mTripType\u001b[0m\u001b[0;34m,\u001b[0m\u001b[0;34m\u001b[0m\u001b[0;34m\u001b[0m\u001b[0m\n\u001b[1;32m      5\u001b[0m                   cat_features=cat_features)\n",
      "\u001b[0;31mNameError\u001b[0m: name 'Pool' is not defined"
     ]
    }
   ],
   "source": [
    "# Create Pool objects (catboost internal data structure)\n",
    "\n",
    "data_train = Pool(x_train.drop(['TripType', 'VisitNumber'], axis=1), \n",
    "                  label=x_train.TripType,\n",
    "                  cat_features=cat_features)\n",
    "\n",
    "data_eval = Pool(x_eval.drop(['TripType', 'VisitNumber'], axis=1), \n",
    "                 label=x_eval.TripType,\n",
    "                 cat_features=cat_features)"
   ]
  },
  {
   "cell_type": "markdown",
   "metadata": {},
   "source": [
    "### Fit a model\n",
    "\n",
    "\n",
    "> If you have a GPU it will drastically improve training speed, use parameter `device='GPU'`"
   ]
  },
  {
   "cell_type": "code",
   "execution_count": null,
   "metadata": {},
   "outputs": [],
   "source": [
    "# Fit a CatBoostClassifier with the following set of hyperparameters\n",
    "\n",
    "ctb_params = {\n",
    "    'depth': 4,\n",
    "    'learning_rate': .33,\n",
    "    'l2_leaf_reg': 3,\n",
    "    'loss_function': 'MultiClass',\n",
    "    'verbose': 1,\n",
    "    'thread_count': 12,\n",
    "}"
   ]
  },
  {
   "cell_type": "code",
   "execution_count": null,
   "metadata": {
    "scrolled": true
   },
   "outputs": [],
   "source": [
    "# With this particular features and hyperparameters it takes about 1.5 hours on a CPU\n",
    "\n",
    "# model = CatBoostClassifier(**ctb_params)\n",
    "# model.fit(X = data_train, silent=False, eval_set=data_eval)"
   ]
  },
  {
   "cell_type": "markdown",
   "metadata": {},
   "source": [
    "![](https://downloader.disk.yandex.ru/preview/47a45d0202eecc7b3d8fb35050278a2714c430c51af256ed919379e6a54c2c5d/5f7074cc/bc4nyN3t5JFfbprrYUVJamEuORedzsk-VmIkZ9PIafohTWWT9tiuZj6n0fo_c9npMfoJXu57fO-EZQkbM2vKyQ==?uid=0&filename=Screenshot+from+2020-09-27+10-16-51.png&disposition=inline&hash=&limit=0&content_type=image%2Fpng&tknv=v2&owner_uid=159868851&size=2048x2048)\n",
    "\n",
    "pic. link https://yadi.sk/i/IFRhOFu_y_PAKw"
   ]
  },
  {
   "cell_type": "markdown",
   "metadata": {},
   "source": [
    "### Save the results into file\n",
    "\n",
    "- save model \n",
    "- save feature importances"
   ]
  },
  {
   "cell_type": "code",
   "execution_count": null,
   "metadata": {},
   "outputs": [],
   "source": [
    "import json"
   ]
  },
  {
   "cell_type": "code",
   "execution_count": null,
   "metadata": {},
   "outputs": [],
   "source": [
    "# model.save_model('catboost_depth=4_lr=.33_l2=.3')\n",
    "# feature_importance = dict(zip(model.feature_names_, model.get_feature_importance()))\n",
    "# with open('feature_importance_cb.json', 'w') as f:\n",
    "#     json.dump(feature_importance, f)"
   ]
  },
  {
   "cell_type": "code",
   "execution_count": null,
   "metadata": {},
   "outputs": [],
   "source": [
    "# Load saved model\n",
    "\n",
    "model = CatBoostClassifier()\n",
    "model = model.load_model('catboost_depth=4_lr=.33_l2=.3')"
   ]
  },
  {
   "cell_type": "code",
   "execution_count": null,
   "metadata": {},
   "outputs": [],
   "source": [
    "# Compute log loss on the local train and test data\n",
    "\n",
    "log_loss(x_train.TripType, model.predict_proba(data_train))"
   ]
  },
  {
   "cell_type": "code",
   "execution_count": null,
   "metadata": {},
   "outputs": [],
   "source": [
    "log_loss(x_eval.TripType, model.predict_proba(data_eval))"
   ]
  },
  {
   "cell_type": "code",
   "execution_count": null,
   "metadata": {},
   "outputs": [],
   "source": [
    "# Compute accuracy score on the local train and test data\n",
    "\n",
    "accuracy_score(x_eval.TripType, model.predict(data_eval))"
   ]
  },
  {
   "cell_type": "code",
   "execution_count": null,
   "metadata": {},
   "outputs": [],
   "source": [
    "accuracy_score(x_train.TripType, model.predict(data_train))"
   ]
  },
  {
   "cell_type": "markdown",
   "metadata": {},
   "source": [
    "### Visualize the feature importance\n",
    "\n",
    "https://catboost.ai/docs/concepts/fstr.html\n",
    "\n",
    "some other possible approaches:\n",
    "- https://github.com/slundberg/shap\n",
    "- https://scikit-learn.org/stable/modules/generated/sklearn.inspection.permutation_importance.html"
   ]
  },
  {
   "cell_type": "code",
   "execution_count": null,
   "metadata": {},
   "outputs": [],
   "source": [
    "# Load saved feature importance\n",
    "\n",
    "with open('feature_importance_cb.json', 'r') as f:\n",
    "    feature_importance = json.load(f)\n",
    "    \n",
    "feature_importance = sorted(feature_importance.items(), key=lambda x: x[1])"
   ]
  },
  {
   "cell_type": "code",
   "execution_count": null,
   "metadata": {},
   "outputs": [],
   "source": [
    "import matplotlib.pyplot as plt\n",
    "%matplotlib inline"
   ]
  },
  {
   "cell_type": "code",
   "execution_count": null,
   "metadata": {},
   "outputs": [],
   "source": [
    "# Plot barchart of feature importances\n",
    "\n",
    "fig, ax = plt.subplots(figsize=(5,10))\n",
    "\n",
    "colnames = [fi[0] for fi in feature_importance]\n",
    "importance = [fi[1] for fi in feature_importance]\n",
    "\n",
    "ax.barh(range(len(colnames)), importance)\n",
    "ax.set_yticks(range(len(colnames)))\n",
    "ax.set_yticklabels(colnames);\n",
    "ax.grid();\n",
    "ax.set_title('Feature importance');"
   ]
  },
  {
   "cell_type": "markdown",
   "metadata": {},
   "source": [
    "### What's next?\n",
    "\n",
    "1. Analyze where does your model make most mistakes, e.g. which classes are not predicted, which classes are confused by a model (build a confusion matrix).\n",
    "2. Based on (1) generate more features, e.g. \"Percentage of products from the top 1 `DepartmentCategory`\".\n",
    "3. GridSearch over boosting parameters. Fit best model on a whole train data. \n",
    "https://catboost.ai/docs/concepts/python-reference_catboost_grid_search.html\n",
    "4. Think about cross-validation, e.g. time-based split? upsample rare classes?"
   ]
  },
  {
   "cell_type": "code",
   "execution_count": null,
   "metadata": {},
   "outputs": [],
   "source": []
  }
 ],
 "metadata": {
  "kernelspec": {
   "display_name": "Python 3",
   "language": "python",
   "name": "python3"
  },
  "language_info": {
   "codemirror_mode": {
    "name": "ipython",
    "version": 3
   },
   "file_extension": ".py",
   "mimetype": "text/x-python",
   "name": "python",
   "nbconvert_exporter": "python",
   "pygments_lexer": "ipython3",
   "version": "3.7.4"
  }
 },
 "nbformat": 4,
 "nbformat_minor": 4
}
